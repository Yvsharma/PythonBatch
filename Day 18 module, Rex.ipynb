{
 "cells": [
  {
   "cell_type": "markdown",
   "id": "294c9f0b",
   "metadata": {},
   "source": [
    "# Random Module"
   ]
  },
  {
   "cell_type": "code",
   "execution_count": 1,
   "id": "7b4b1e36",
   "metadata": {},
   "outputs": [],
   "source": [
    "# importing\n",
    "\n",
    "# import module_name\n",
    "\n",
    "# from module_name import function_name"
   ]
  },
  {
   "cell_type": "markdown",
   "id": "7ca61f8b",
   "metadata": {},
   "source": [
    "Functions - \n",
    "\n",
    "1) Choice() -  pick random number\n",
    "\n",
    "2) Randint() - use random number from perticular range.\n",
    "\n",
    "3) Shuffle ( ) - which is used to shuffle values of a list."
   ]
  },
  {
   "cell_type": "code",
   "execution_count": 4,
   "id": "9fb2701c",
   "metadata": {},
   "outputs": [
    {
     "name": "stdout",
     "output_type": "stream",
     "text": [
      "0.9040256962351749\n"
     ]
    }
   ],
   "source": [
    "import random\n",
    "\n",
    "x= random.random()\n",
    "print(x)"
   ]
  },
  {
   "cell_type": "code",
   "execution_count": 8,
   "id": "48992eea",
   "metadata": {},
   "outputs": [
    {
     "name": "stdout",
     "output_type": "stream",
     "text": [
      "2\n"
     ]
    }
   ],
   "source": [
    "from random import choice\n",
    "\n",
    "l1=[1,2,3,8,9,99,4]\n",
    "\n",
    "print(choice(l1))"
   ]
  },
  {
   "cell_type": "code",
   "execution_count": 9,
   "id": "6b75b3c2",
   "metadata": {},
   "outputs": [
    {
     "data": {
      "text/plain": [
       "8"
      ]
     },
     "execution_count": 9,
     "metadata": {},
     "output_type": "execute_result"
    }
   ],
   "source": [
    "random.choice(l1)"
   ]
  },
  {
   "cell_type": "code",
   "execution_count": 19,
   "id": "66245c84",
   "metadata": {},
   "outputs": [
    {
     "name": "stdout",
     "output_type": "stream",
     "text": [
      "213\n"
     ]
    }
   ],
   "source": [
    "# randint\n",
    "\n",
    "otp=random.randint(100,999)\n",
    "print(otp)"
   ]
  },
  {
   "cell_type": "code",
   "execution_count": 20,
   "id": "9c910672",
   "metadata": {},
   "outputs": [
    {
     "name": "stdout",
     "output_type": "stream",
     "text": [
      "['banana', 'orange', 'apple', 'mango', 'cherry']\n"
     ]
    }
   ],
   "source": [
    "# shuffle\n",
    "\n",
    "l2=['apple','cherry','mango','banana','orange']\n",
    "\n",
    "random.shuffle(l2)\n",
    "\n",
    "print(l2)"
   ]
  },
  {
   "cell_type": "markdown",
   "id": "9dcfa93c",
   "metadata": {},
   "source": [
    "# math module"
   ]
  },
  {
   "cell_type": "code",
   "execution_count": 21,
   "id": "4cee0fcd",
   "metadata": {},
   "outputs": [],
   "source": [
    "# factorial()\n",
    "# ceil()\n",
    "# floor()\n",
    "# sqrt()"
   ]
  },
  {
   "cell_type": "code",
   "execution_count": 22,
   "id": "73c47ed0",
   "metadata": {},
   "outputs": [
    {
     "name": "stdout",
     "output_type": "stream",
     "text": [
      "479001600\n"
     ]
    }
   ],
   "source": [
    "from math import factorial\n",
    "\n",
    "print(factorial(12))"
   ]
  },
  {
   "cell_type": "code",
   "execution_count": 24,
   "id": "6b9c11e3",
   "metadata": {},
   "outputs": [
    {
     "name": "stdout",
     "output_type": "stream",
     "text": [
      "Enter a float no. : 33.3489831348\n",
      "34\n"
     ]
    }
   ],
   "source": [
    "from math import ceil\n",
    "\n",
    "num=float(input('Enter a float no. : '))\n",
    "\n",
    "roff=ceil(num)\n",
    "print(roff)"
   ]
  },
  {
   "cell_type": "code",
   "execution_count": 25,
   "id": "ce0be170",
   "metadata": {},
   "outputs": [
    {
     "name": "stdout",
     "output_type": "stream",
     "text": [
      "Enter a float no. : 33.34856576813\n",
      "33\n"
     ]
    }
   ],
   "source": [
    "from math import floor\n",
    "\n",
    "num1=float(input('Enter a float no. : '))\n",
    "\n",
    "rdw=floor(num1)\n",
    "print(rdw)"
   ]
  },
  {
   "cell_type": "code",
   "execution_count": 26,
   "id": "12e7d75a",
   "metadata": {},
   "outputs": [
    {
     "data": {
      "text/plain": [
       "8.0"
      ]
     },
     "execution_count": 26,
     "metadata": {},
     "output_type": "execute_result"
    }
   ],
   "source": [
    "# sqrt\n",
    "\n",
    "import math\n",
    "\n",
    "math.sqrt(64)"
   ]
  },
  {
   "cell_type": "code",
   "execution_count": 27,
   "id": "07866bfc",
   "metadata": {},
   "outputs": [
    {
     "data": {
      "text/plain": [
       "9.0"
      ]
     },
     "execution_count": 27,
     "metadata": {},
     "output_type": "execute_result"
    }
   ],
   "source": [
    "from math import sqrt\n",
    "\n",
    "sqrt(81)"
   ]
  },
  {
   "cell_type": "code",
   "execution_count": 28,
   "id": "affd7bf2",
   "metadata": {},
   "outputs": [
    {
     "data": {
      "text/plain": [
       "8.0"
      ]
     },
     "execution_count": 28,
     "metadata": {},
     "output_type": "execute_result"
    }
   ],
   "source": [
    "import math\n",
    "\n",
    "sqrt(64)"
   ]
  },
  {
   "cell_type": "markdown",
   "id": "781289b4",
   "metadata": {},
   "source": [
    "# Regular expression"
   ]
  },
  {
   "cell_type": "markdown",
   "id": "26b04efa",
   "metadata": {},
   "source": [
    "Regx = regular expression"
   ]
  },
  {
   "cell_type": "markdown",
   "id": "82f6a85a",
   "metadata": {},
   "source": [
    "#it is a sequence of characters that defines a search pattern.\n",
    "\n",
    "# Importing\n",
    "\n",
    "import re\n",
    "\n",
    "1) match\n",
    "\n",
    "2) search\n",
    "\n",
    "3) replace"
   ]
  },
  {
   "cell_type": "code",
   "execution_count": 36,
   "id": "97ed576d",
   "metadata": {},
   "outputs": [
    {
     "name": "stdout",
     "output_type": "stream",
     "text": [
      "<re.Match object; span=(0, 1), match='w'>\n"
     ]
    }
   ],
   "source": [
    "import re\n",
    "\n",
    "s= 'we are learning abc'\n",
    "\n",
    "# pattern= r\"^abc\"\n",
    "\n",
    "x= re.match('w',s)\n",
    "\n",
    "print(x)"
   ]
  },
  {
   "cell_type": "code",
   "execution_count": 37,
   "id": "ace93ba6",
   "metadata": {},
   "outputs": [
    {
     "name": "stdout",
     "output_type": "stream",
     "text": [
      "None\n"
     ]
    }
   ],
   "source": [
    "import re\n",
    "\n",
    "s= 'we are learning abc'\n",
    "\n",
    "# pattern= r\"^abc\"\n",
    "\n",
    "x= re.match('l',s)\n",
    "\n",
    "print(x)"
   ]
  },
  {
   "cell_type": "code",
   "execution_count": 38,
   "id": "aacf4c79",
   "metadata": {},
   "outputs": [
    {
     "name": "stdout",
     "output_type": "stream",
     "text": [
      "<re.Match object; span=(2, 3), match=' '>\n"
     ]
    }
   ],
   "source": [
    "# search\n",
    "\n",
    "import re\n",
    "\n",
    "s= 'we are learning abc'\n",
    "\n",
    "# pattern= r\"^abc\"\n",
    "\n",
    "x= re.search('\\s',s)\n",
    "\n",
    "print(x)"
   ]
  },
  {
   "cell_type": "code",
   "execution_count": 39,
   "id": "81ed6518",
   "metadata": {},
   "outputs": [
    {
     "name": "stdout",
     "output_type": "stream",
     "text": [
      "<re.Match object; span=(7, 8), match='l'>\n"
     ]
    }
   ],
   "source": [
    "import re\n",
    "\n",
    "s= 'we are learning abc'\n",
    "\n",
    "# pattern= r\"^abc\"\n",
    "\n",
    "x= re.search('l',s)\n",
    "\n",
    "print(x)"
   ]
  },
  {
   "cell_type": "code",
   "execution_count": 40,
   "id": "79d0c886",
   "metadata": {},
   "outputs": [
    {
     "name": "stdout",
     "output_type": "stream",
     "text": [
      "<re.Match object; span=(16, 19), match='abc'>\n"
     ]
    }
   ],
   "source": [
    "import re\n",
    "\n",
    "s= 'we are learning abc'\n",
    "\n",
    "# pattern= r\"^abc\"\n",
    "\n",
    "x= re.search('abc',s)\n",
    "\n",
    "print(x)"
   ]
  },
  {
   "cell_type": "code",
   "execution_count": 49,
   "id": "609c47a0",
   "metadata": {},
   "outputs": [
    {
     "name": "stdout",
     "output_type": "stream",
     "text": [
      "Wo Aoo Looooooo Aoo\n"
     ]
    }
   ],
   "source": [
    "# replace\n",
    "\n",
    "import re\n",
    "\n",
    "s= 'We Are Learning Abc'\n",
    "\n",
    "\n",
    "\n",
    "x= re.sub(r'[a-z]','o',s)\n",
    "\n",
    "print(x)"
   ]
  },
  {
   "cell_type": "code",
   "execution_count": null,
   "id": "27ffb3c2",
   "metadata": {},
   "outputs": [],
   "source": []
  }
 ],
 "metadata": {
  "kernelspec": {
   "display_name": "Python 3 (ipykernel)",
   "language": "python",
   "name": "python3"
  },
  "language_info": {
   "codemirror_mode": {
    "name": "ipython",
    "version": 3
   },
   "file_extension": ".py",
   "mimetype": "text/x-python",
   "name": "python",
   "nbconvert_exporter": "python",
   "pygments_lexer": "ipython3",
   "version": "3.9.12"
  }
 },
 "nbformat": 4,
 "nbformat_minor": 5
}
