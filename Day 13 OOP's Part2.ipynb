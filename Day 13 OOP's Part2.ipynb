{
 "cells": [
  {
   "cell_type": "markdown",
   "id": "baa0df42",
   "metadata": {},
   "source": [
    "# Constructor"
   ]
  },
  {
   "cell_type": "markdown",
   "id": "3cc55872",
   "metadata": {},
   "source": [
    "It is a special type of function with which we can invoke\n",
    "or assign values to the attributes"
   ]
  },
  {
   "cell_type": "markdown",
   "id": "6f2d0a3c",
   "metadata": {},
   "source": [
    "as soon as we create our object, all the attributes inside our class would \n",
    "initialise . if we have our constructor in our class."
   ]
  },
  {
   "cell_type": "code",
   "execution_count": 5,
   "id": "a5733d64",
   "metadata": {},
   "outputs": [],
   "source": [
    "# By default we can assign our constructor by __init__"
   ]
  },
  {
   "cell_type": "code",
   "execution_count": 1,
   "id": "a577064b",
   "metadata": {},
   "outputs": [],
   "source": [
    "class Employee:\n",
    "    def __init__ (self,name,age,salary,gender):\n",
    "        self.name=name\n",
    "        self.age=age\n",
    "        self.salary=salary\n",
    "        self.gender=gender\n",
    "    def employee_details(self):\n",
    "        print('Name of the employee is ', self.name)\n",
    "        print('Age of the employee is ', self.age)\n",
    "        print('Salary of the employee is ', self.salary)\n",
    "        print('Gender of the employee is ', self.gender)"
   ]
  },
  {
   "cell_type": "code",
   "execution_count": 2,
   "id": "a8309a77",
   "metadata": {},
   "outputs": [],
   "source": [
    "e1=Employee('yash',12,150,'Male')"
   ]
  },
  {
   "cell_type": "code",
   "execution_count": 3,
   "id": "01ce179e",
   "metadata": {},
   "outputs": [
    {
     "name": "stdout",
     "output_type": "stream",
     "text": [
      "Name of the employee is  yash\n",
      "Age of the employee is  12\n",
      "Salary of the employee is  150\n",
      "Gender of the employee is  Male\n"
     ]
    }
   ],
   "source": [
    "e1.employee_details()"
   ]
  },
  {
   "cell_type": "code",
   "execution_count": 4,
   "id": "265237cc",
   "metadata": {},
   "outputs": [
    {
     "name": "stdout",
     "output_type": "stream",
     "text": [
      "22\n",
      "4\n"
     ]
    }
   ],
   "source": [
    "print('2'+'2')\n",
    "print(2+2)"
   ]
  },
  {
   "cell_type": "code",
   "execution_count": 8,
   "id": "c316b3fb",
   "metadata": {},
   "outputs": [],
   "source": [
    "class Employee2:\n",
    "    def __init__ (self,name,age,salery,gender):\n",
    "        self.name=name\n",
    "        self.age=age\n",
    "        self.salery=salery\n",
    "        self.gender=gender\n",
    "    def employee_details(self):\n",
    "        print('name of the employee is ',self.name)\n",
    "        print('Age of the emoloyee ',self.age)\n",
    "        print('salery of the emoloyee ',self.salery)\n",
    "        print('Gender of the emoloyee ',self.gender)"
   ]
  },
  {
   "cell_type": "code",
   "execution_count": 9,
   "id": "136711e5",
   "metadata": {},
   "outputs": [],
   "source": [
    "e2=Employee2('shivam',25,25000,'Male')"
   ]
  },
  {
   "cell_type": "code",
   "execution_count": 10,
   "id": "eb08a8ed",
   "metadata": {},
   "outputs": [
    {
     "name": "stdout",
     "output_type": "stream",
     "text": [
      "name of the employee is  shivam\n",
      "Age of the emoloyee  25\n",
      "salery of the emoloyee  25000\n",
      "Gender of the emoloyee  Male\n"
     ]
    }
   ],
   "source": [
    "e2.employee_details()"
   ]
  },
  {
   "cell_type": "code",
   "execution_count": 11,
   "id": "26a763b7",
   "metadata": {},
   "outputs": [],
   "source": [
    "class Employee3:\n",
    "    def __init__(self,name,age,salary, gender):\n",
    "        self.name=name\n",
    "        self.age=age\n",
    "        self.salary=salary\n",
    "        self.gender=gender\n",
    "    def employee_details(self):\n",
    "        print(\"Name of the employee is\", self.name)\n",
    "        print(\"Age of the employee is\", self.age)\n",
    "        print(\"Salary of the employee is\", self.salary)\n",
    "        print(\"Gender of the employee is\", self.gender)"
   ]
  },
  {
   "cell_type": "code",
   "execution_count": 12,
   "id": "9293ec78",
   "metadata": {},
   "outputs": [],
   "source": [
    "e3=Employee3('Akash',25,25000,'Male')"
   ]
  },
  {
   "cell_type": "code",
   "execution_count": 13,
   "id": "8194f489",
   "metadata": {},
   "outputs": [
    {
     "name": "stdout",
     "output_type": "stream",
     "text": [
      "Name of the employee is Akash\n",
      "Age of the employee is 25\n",
      "Salary of the employee is 25000\n",
      "Gender of the employee is Male\n"
     ]
    }
   ],
   "source": [
    "e3.employee_details()"
   ]
  },
  {
   "cell_type": "code",
   "execution_count": 23,
   "id": "4da8ae36",
   "metadata": {},
   "outputs": [],
   "source": [
    "class student :\n",
    "    def __init__(self, name, standard_class,age,gender):\n",
    "        self.name = name\n",
    "        self.standard_class = standard_class\n",
    "        self.age = age\n",
    "        self.gender = gender\n",
    "    def student_details(self):\n",
    "        print('name of the student' , self.name)\n",
    "        print('standard of the student', self.standard_class )\n",
    "        if self.age>15:\n",
    "            print('age of the student' , self.age)\n",
    "        else:\n",
    "            print('you are to young' , self.age)\n",
    "        print('gender of the student' , self.gender)\n"
   ]
  },
  {
   "cell_type": "code",
   "execution_count": 24,
   "id": "4527584c",
   "metadata": {},
   "outputs": [],
   "source": [
    "s1 = student('vishal',6, 12,'male')\n"
   ]
  },
  {
   "cell_type": "code",
   "execution_count": 25,
   "id": "49d5f201",
   "metadata": {},
   "outputs": [
    {
     "name": "stdout",
     "output_type": "stream",
     "text": [
      "name of the student vishal\n",
      "standard of the student 6\n",
      "you are to young 12\n",
      "gender of the student male\n"
     ]
    }
   ],
   "source": [
    "s1.student_details()"
   ]
  },
  {
   "cell_type": "markdown",
   "id": "fa219c78",
   "metadata": {},
   "source": [
    "# Inheritance"
   ]
  },
  {
   "cell_type": "markdown",
   "id": "772a1446",
   "metadata": {},
   "source": [
    "With inheritance 1 class can drive the properties of other class."
   ]
  },
  {
   "cell_type": "code",
   "execution_count": 26,
   "id": "94967172",
   "metadata": {},
   "outputs": [],
   "source": [
    "# Base class\n",
    "class Vehicle:\n",
    "    def __init__(self,mileage,cost):\n",
    "        self.mileage=mileage\n",
    "        self.cost=cost\n",
    "    def show_details(self):\n",
    "        print('It is a Vehicle')\n",
    "        print('Mileage is ', self.mileage)\n",
    "        print('Cost is ', self.cost)"
   ]
  },
  {
   "cell_type": "code",
   "execution_count": 27,
   "id": "714cd023",
   "metadata": {},
   "outputs": [],
   "source": [
    "v1=Vehicle(50,5000)"
   ]
  },
  {
   "cell_type": "code",
   "execution_count": 28,
   "id": "f7bd85d2",
   "metadata": {},
   "outputs": [
    {
     "name": "stdout",
     "output_type": "stream",
     "text": [
      "It is a Vehicle\n",
      "Mileage is  50\n",
      "Cost is  5000\n"
     ]
    }
   ],
   "source": [
    "v1.show_details()"
   ]
  },
  {
   "cell_type": "code",
   "execution_count": 30,
   "id": "86158119",
   "metadata": {},
   "outputs": [],
   "source": [
    "# sub class\n",
    "\n",
    "class Car(Vehicle):\n",
    "    def show_car(self):\n",
    "        print('it is a car class')"
   ]
  },
  {
   "cell_type": "code",
   "execution_count": 31,
   "id": "839292b0",
   "metadata": {},
   "outputs": [],
   "source": [
    "c1=Car(40,4000)"
   ]
  },
  {
   "cell_type": "code",
   "execution_count": 32,
   "id": "73542bfb",
   "metadata": {},
   "outputs": [
    {
     "name": "stdout",
     "output_type": "stream",
     "text": [
      "It is a Vehicle\n",
      "Mileage is  40\n",
      "Cost is  4000\n"
     ]
    }
   ],
   "source": [
    "c1.show_details()"
   ]
  },
  {
   "cell_type": "code",
   "execution_count": 33,
   "id": "6fe6ff2d",
   "metadata": {},
   "outputs": [
    {
     "name": "stdout",
     "output_type": "stream",
     "text": [
      "it is a car class\n"
     ]
    }
   ],
   "source": [
    "c1.show_car()"
   ]
  },
  {
   "cell_type": "code",
   "execution_count": 34,
   "id": "3ab70bfa",
   "metadata": {},
   "outputs": [],
   "source": [
    "# over riding init method"
   ]
  },
  {
   "cell_type": "code",
   "execution_count": 41,
   "id": "9a39b1b8",
   "metadata": {},
   "outputs": [],
   "source": [
    "class Car(Vehicle):\n",
    "    def __init__(self,mileage,cost,tyres,HP):\n",
    "        super().__init__(mileage,cost)\n",
    "        self.tyres=tyres\n",
    "        self.HP=HP\n",
    "    def show_car_detail(self):\n",
    "        print('it is a new car class')\n",
    "        print('Mileage is ', self.mileage)\n",
    "        print('Cost is ', self.cost)\n",
    "        print('No. of Tyres ', self.tyres)\n",
    "        print('Value of HP',self.HP)\n",
    "        "
   ]
  },
  {
   "cell_type": "code",
   "execution_count": 42,
   "id": "f81ca8b6",
   "metadata": {},
   "outputs": [],
   "source": [
    "c1=Car(20,1200,4,300)"
   ]
  },
  {
   "cell_type": "code",
   "execution_count": 37,
   "id": "9753955d",
   "metadata": {},
   "outputs": [
    {
     "name": "stdout",
     "output_type": "stream",
     "text": [
      "It is a Vehicle\n",
      "Mileage is  20\n",
      "Cost is  1200\n"
     ]
    }
   ],
   "source": [
    "c1.show_details()"
   ]
  },
  {
   "cell_type": "code",
   "execution_count": 38,
   "id": "428f76b7",
   "metadata": {},
   "outputs": [
    {
     "ename": "AttributeError",
     "evalue": "'Car' object has no attribute 'show_car'",
     "output_type": "error",
     "traceback": [
      "\u001b[1;31m---------------------------------------------------------------------------\u001b[0m",
      "\u001b[1;31mAttributeError\u001b[0m                            Traceback (most recent call last)",
      "Input \u001b[1;32mIn [38]\u001b[0m, in \u001b[0;36m<cell line: 1>\u001b[1;34m()\u001b[0m\n\u001b[1;32m----> 1\u001b[0m \u001b[43mc1\u001b[49m\u001b[38;5;241;43m.\u001b[39;49m\u001b[43mshow_car\u001b[49m()\n",
      "\u001b[1;31mAttributeError\u001b[0m: 'Car' object has no attribute 'show_car'"
     ]
    }
   ],
   "source": [
    "c1.show_car()"
   ]
  },
  {
   "cell_type": "code",
   "execution_count": 43,
   "id": "8aea1143",
   "metadata": {},
   "outputs": [
    {
     "name": "stdout",
     "output_type": "stream",
     "text": [
      "it is a new car class\n",
      "No. of Tyres  4\n",
      "Value of HP 300\n"
     ]
    }
   ],
   "source": [
    "c1.show_car_detail()"
   ]
  },
  {
   "cell_type": "code",
   "execution_count": null,
   "id": "16fd3f1c",
   "metadata": {},
   "outputs": [],
   "source": []
  }
 ],
 "metadata": {
  "kernelspec": {
   "display_name": "Python 3 (ipykernel)",
   "language": "python",
   "name": "python3"
  },
  "language_info": {
   "codemirror_mode": {
    "name": "ipython",
    "version": 3
   },
   "file_extension": ".py",
   "mimetype": "text/x-python",
   "name": "python",
   "nbconvert_exporter": "python",
   "pygments_lexer": "ipython3",
   "version": "3.9.12"
  }
 },
 "nbformat": 4,
 "nbformat_minor": 5
}
