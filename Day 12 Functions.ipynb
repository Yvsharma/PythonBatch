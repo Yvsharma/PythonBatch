{
 "cells": [
  {
   "cell_type": "markdown",
   "id": "db0ffd9c",
   "metadata": {},
   "source": [
    "# Functions"
   ]
  },
  {
   "cell_type": "code",
   "execution_count": 1,
   "id": "ad8343d6",
   "metadata": {},
   "outputs": [],
   "source": [
    "def f_fun():\n",
    "    print('hello from a function')"
   ]
  },
  {
   "cell_type": "code",
   "execution_count": 2,
   "id": "915b4201",
   "metadata": {},
   "outputs": [
    {
     "name": "stdout",
     "output_type": "stream",
     "text": [
      "hello from a function\n"
     ]
    }
   ],
   "source": [
    "f_fun() # calling function"
   ]
  },
  {
   "cell_type": "code",
   "execution_count": 10,
   "id": "4d202024",
   "metadata": {},
   "outputs": [],
   "source": [
    "# Arguments\n",
    "\n",
    "def f_fun2():\n",
    "    print(b,'hello from a function')\n",
    "    \n"
   ]
  },
  {
   "cell_type": "code",
   "execution_count": 7,
   "id": "8b0619e5",
   "metadata": {},
   "outputs": [],
   "source": [
    "a='yash'"
   ]
  },
  {
   "cell_type": "code",
   "execution_count": 9,
   "id": "2f43f5a8",
   "metadata": {},
   "outputs": [
    {
     "name": "stdout",
     "output_type": "stream",
     "text": [
      "yash hello from a function\n"
     ]
    }
   ],
   "source": [
    "f_fun2()"
   ]
  },
  {
   "cell_type": "code",
   "execution_count": 11,
   "id": "94f60a69",
   "metadata": {},
   "outputs": [
    {
     "ename": "TypeError",
     "evalue": "f_fun2() takes 0 positional arguments but 1 was given",
     "output_type": "error",
     "traceback": [
      "\u001b[1;31m---------------------------------------------------------------------------\u001b[0m",
      "\u001b[1;31mTypeError\u001b[0m                                 Traceback (most recent call last)",
      "Input \u001b[1;32mIn [11]\u001b[0m, in \u001b[0;36m<cell line: 1>\u001b[1;34m()\u001b[0m\n\u001b[1;32m----> 1\u001b[0m \u001b[43mf_fun2\u001b[49m\u001b[43m(\u001b[49m\u001b[38;5;124;43m'\u001b[39;49m\u001b[38;5;124;43mpython\u001b[39;49m\u001b[38;5;124;43m'\u001b[39;49m\u001b[43m)\u001b[49m\n",
      "\u001b[1;31mTypeError\u001b[0m: f_fun2() takes 0 positional arguments but 1 was given"
     ]
    }
   ],
   "source": [
    "f_fun2('python')"
   ]
  },
  {
   "cell_type": "code",
   "execution_count": 16,
   "id": "e4ba5ad9",
   "metadata": {},
   "outputs": [],
   "source": [
    "#parameters \n",
    "\n",
    "def fun(fname,lname):\n",
    "    print(fname+' '+lname)"
   ]
  },
  {
   "cell_type": "code",
   "execution_count": 13,
   "id": "efd94cb4",
   "metadata": {},
   "outputs": [
    {
     "ename": "TypeError",
     "evalue": "fun() missing 1 required positional argument: 'lname'",
     "output_type": "error",
     "traceback": [
      "\u001b[1;31m---------------------------------------------------------------------------\u001b[0m",
      "\u001b[1;31mTypeError\u001b[0m                                 Traceback (most recent call last)",
      "Input \u001b[1;32mIn [13]\u001b[0m, in \u001b[0;36m<cell line: 1>\u001b[1;34m()\u001b[0m\n\u001b[1;32m----> 1\u001b[0m \u001b[43mfun\u001b[49m\u001b[43m(\u001b[49m\u001b[38;5;124;43m'\u001b[39;49m\u001b[38;5;124;43mabc\u001b[39;49m\u001b[38;5;124;43m'\u001b[39;49m\u001b[43m)\u001b[49m\n",
      "\u001b[1;31mTypeError\u001b[0m: fun() missing 1 required positional argument: 'lname'"
     ]
    }
   ],
   "source": [
    "fun('abc')"
   ]
  },
  {
   "cell_type": "code",
   "execution_count": 17,
   "id": "a8fda415",
   "metadata": {},
   "outputs": [
    {
     "name": "stdout",
     "output_type": "stream",
     "text": [
      "abc xyz\n"
     ]
    }
   ],
   "source": [
    "fun('abc','xyz')"
   ]
  },
  {
   "cell_type": "code",
   "execution_count": 18,
   "id": "a4269a46",
   "metadata": {},
   "outputs": [
    {
     "name": "stdout",
     "output_type": "stream",
     "text": [
      "room 210\n"
     ]
    }
   ],
   "source": [
    "fun('room','210')"
   ]
  },
  {
   "cell_type": "code",
   "execution_count": 19,
   "id": "fc8da03f",
   "metadata": {},
   "outputs": [],
   "source": [
    "\n",
    "def fun1(fname,lname):\n",
    "    print('hello',fname+' '+lname)"
   ]
  },
  {
   "cell_type": "code",
   "execution_count": 20,
   "id": "d0f07c65",
   "metadata": {},
   "outputs": [
    {
     "name": "stdout",
     "output_type": "stream",
     "text": [
      "hello abc xyz\n"
     ]
    }
   ],
   "source": [
    "fun1('abc','xyz')"
   ]
  },
  {
   "cell_type": "code",
   "execution_count": 23,
   "id": "ce0f261d",
   "metadata": {},
   "outputs": [],
   "source": [
    "#keyword arguments\n",
    "\n",
    "def key1(per1,per2,per3):\n",
    "    print('she is per2'+ per2)\n"
   ]
  },
  {
   "cell_type": "code",
   "execution_count": 26,
   "id": "dc5db893",
   "metadata": {},
   "outputs": [
    {
     "name": "stdout",
     "output_type": "stream",
     "text": [
      "she is per2  deeba\n"
     ]
    }
   ],
   "source": [
    "key1(per1='rakesh',per2=\"deeba\",per3='sonu')"
   ]
  },
  {
   "cell_type": "code",
   "execution_count": 25,
   "id": "21a23bb7",
   "metadata": {},
   "outputs": [],
   "source": [
    "def key1(per1,per2,per3):\n",
    "    print('she is per2 ', per2)"
   ]
  },
  {
   "cell_type": "code",
   "execution_count": 29,
   "id": "7d637b48",
   "metadata": {},
   "outputs": [],
   "source": [
    "def age1(age1,age2,age3):\n",
    "    print('age of per2 ', age2)"
   ]
  },
  {
   "cell_type": "code",
   "execution_count": 30,
   "id": "6501c08d",
   "metadata": {},
   "outputs": [
    {
     "name": "stdout",
     "output_type": "stream",
     "text": [
      "age of per2  31\n"
     ]
    }
   ],
   "source": [
    "age1(age1=22,age2=31,age3=15)"
   ]
  },
  {
   "cell_type": "code",
   "execution_count": 31,
   "id": "593c27dd",
   "metadata": {},
   "outputs": [],
   "source": [
    "def age1(age1,age2,age3):\n",
    "    print('age of per2 '+age2)"
   ]
  },
  {
   "cell_type": "code",
   "execution_count": 32,
   "id": "5870038a",
   "metadata": {},
   "outputs": [
    {
     "ename": "TypeError",
     "evalue": "can only concatenate str (not \"int\") to str",
     "output_type": "error",
     "traceback": [
      "\u001b[1;31m---------------------------------------------------------------------------\u001b[0m",
      "\u001b[1;31mTypeError\u001b[0m                                 Traceback (most recent call last)",
      "Input \u001b[1;32mIn [32]\u001b[0m, in \u001b[0;36m<cell line: 1>\u001b[1;34m()\u001b[0m\n\u001b[1;32m----> 1\u001b[0m \u001b[43mage1\u001b[49m\u001b[43m(\u001b[49m\u001b[43mage1\u001b[49m\u001b[38;5;241;43m=\u001b[39;49m\u001b[38;5;241;43m22\u001b[39;49m\u001b[43m,\u001b[49m\u001b[43mage2\u001b[49m\u001b[38;5;241;43m=\u001b[39;49m\u001b[38;5;241;43m31\u001b[39;49m\u001b[43m,\u001b[49m\u001b[43mage3\u001b[49m\u001b[38;5;241;43m=\u001b[39;49m\u001b[38;5;241;43m15\u001b[39;49m\u001b[43m)\u001b[49m\n",
      "Input \u001b[1;32mIn [31]\u001b[0m, in \u001b[0;36mage1\u001b[1;34m(age1, age2, age3)\u001b[0m\n\u001b[0;32m      1\u001b[0m \u001b[38;5;28;01mdef\u001b[39;00m \u001b[38;5;21mage1\u001b[39m(age1,age2,age3):\n\u001b[1;32m----> 2\u001b[0m     \u001b[38;5;28mprint\u001b[39m(\u001b[38;5;124;43m'\u001b[39;49m\u001b[38;5;124;43mage of per2 \u001b[39;49m\u001b[38;5;124;43m'\u001b[39;49m\u001b[38;5;241;43m+\u001b[39;49m\u001b[43mage2\u001b[49m)\n",
      "\u001b[1;31mTypeError\u001b[0m: can only concatenate str (not \"int\") to str"
     ]
    }
   ],
   "source": [
    "age1(age1=22,age2=31,age3=15)"
   ]
  },
  {
   "cell_type": "code",
   "execution_count": 33,
   "id": "d54bbaf0",
   "metadata": {},
   "outputs": [],
   "source": [
    "# passing a list as an argument\n",
    "\n",
    "def fruit_name(fruit):\n",
    "    for i in fruit:\n",
    "        print(i)"
   ]
  },
  {
   "cell_type": "code",
   "execution_count": 34,
   "id": "ff8e8a08",
   "metadata": {},
   "outputs": [],
   "source": [
    "fruit=['apple','banana','orange']"
   ]
  },
  {
   "cell_type": "code",
   "execution_count": 35,
   "id": "749bcd79",
   "metadata": {},
   "outputs": [
    {
     "name": "stdout",
     "output_type": "stream",
     "text": [
      "apple\n",
      "banana\n",
      "orange\n"
     ]
    }
   ],
   "source": [
    "fruit_name(fruit)"
   ]
  },
  {
   "cell_type": "code",
   "execution_count": 36,
   "id": "9e238d5a",
   "metadata": {},
   "outputs": [],
   "source": [
    "# return value\n",
    "\n",
    "def return_fun(x):\n",
    "    return x*5"
   ]
  },
  {
   "cell_type": "code",
   "execution_count": 37,
   "id": "e9acd0b5",
   "metadata": {},
   "outputs": [
    {
     "data": {
      "text/plain": [
       "45"
      ]
     },
     "execution_count": 37,
     "metadata": {},
     "output_type": "execute_result"
    }
   ],
   "source": [
    "return_fun(9)"
   ]
  },
  {
   "cell_type": "code",
   "execution_count": 38,
   "id": "a1722fc6",
   "metadata": {},
   "outputs": [
    {
     "data": {
      "text/plain": [
       "270"
      ]
     },
     "execution_count": 38,
     "metadata": {},
     "output_type": "execute_result"
    }
   ],
   "source": [
    "return_fun(54)"
   ]
  },
  {
   "cell_type": "code",
   "execution_count": 39,
   "id": "f871af57",
   "metadata": {},
   "outputs": [],
   "source": [
    "def python1(s):\n",
    "    if s>0:\n",
    "        print('+ve no.')\n",
    "    else:\n",
    "        print(' -ve or zero ')"
   ]
  },
  {
   "cell_type": "code",
   "execution_count": 40,
   "id": "7d68c6e6",
   "metadata": {},
   "outputs": [
    {
     "name": "stdout",
     "output_type": "stream",
     "text": [
      "+ve no.\n"
     ]
    }
   ],
   "source": [
    "python1(5)"
   ]
  },
  {
   "cell_type": "code",
   "execution_count": 41,
   "id": "77c99cff",
   "metadata": {},
   "outputs": [
    {
     "name": "stdout",
     "output_type": "stream",
     "text": [
      " -ve or zero \n"
     ]
    }
   ],
   "source": [
    "python1(-1)"
   ]
  },
  {
   "cell_type": "code",
   "execution_count": 42,
   "id": "c119c951",
   "metadata": {},
   "outputs": [],
   "source": [
    "# recursion\n",
    "def rec(k):\n",
    "    if k>0:\n",
    "        result=k+rec(k-1)\n",
    "    else:\n",
    "        result=0\n",
    "    return result"
   ]
  },
  {
   "cell_type": "code",
   "execution_count": 43,
   "id": "6711f779",
   "metadata": {},
   "outputs": [
    {
     "data": {
      "text/plain": [
       "15"
      ]
     },
     "execution_count": 43,
     "metadata": {},
     "output_type": "execute_result"
    }
   ],
   "source": [
    "rec(5)"
   ]
  },
  {
   "cell_type": "code",
   "execution_count": 44,
   "id": "7e82dd76",
   "metadata": {},
   "outputs": [
    {
     "data": {
      "text/plain": [
       "55"
      ]
     },
     "execution_count": 44,
     "metadata": {},
     "output_type": "execute_result"
    }
   ],
   "source": [
    "rec(10)"
   ]
  },
  {
   "cell_type": "code",
   "execution_count": null,
   "id": "b447a00b",
   "metadata": {},
   "outputs": [],
   "source": []
  }
 ],
 "metadata": {
  "kernelspec": {
   "display_name": "Python 3 (ipykernel)",
   "language": "python",
   "name": "python3"
  },
  "language_info": {
   "codemirror_mode": {
    "name": "ipython",
    "version": 3
   },
   "file_extension": ".py",
   "mimetype": "text/x-python",
   "name": "python",
   "nbconvert_exporter": "python",
   "pygments_lexer": "ipython3",
   "version": "3.9.12"
  }
 },
 "nbformat": 4,
 "nbformat_minor": 5
}
