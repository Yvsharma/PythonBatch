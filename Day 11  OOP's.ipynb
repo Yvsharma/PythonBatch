{
 "cells": [
  {
   "cell_type": "markdown",
   "id": "9a29a210",
   "metadata": {},
   "source": [
    "# OOP's :- Object orieted programming"
   ]
  },
  {
   "cell_type": "markdown",
   "id": "f927c956",
   "metadata": {},
   "source": [
    "# 1) Class\n",
    "# 2) Object"
   ]
  },
  {
   "cell_type": "code",
   "execution_count": null,
   "id": "c11e6d78",
   "metadata": {},
   "outputs": [],
   "source": [
    "Class\n",
    "\n",
    "A) Properties/Attributes\n",
    "\n",
    "ex.- Color, cost etc.\n",
    "\n",
    "B) Behavior\n",
    "\n",
    "ex.- calling, games etc."
   ]
  },
  {
   "cell_type": "code",
   "execution_count": null,
   "id": "a4c952bb",
   "metadata": {},
   "outputs": [],
   "source": [
    "Object \n",
    "\n",
    "objects are specific instances of a class\n",
    "\n",
    "- specifi instances of mobile data type\n",
    "ex- Apple , 1+ , LG etc.\n",
    "\n",
    "- specific instances of integer data type\n",
    "ex- 37000,15000,25000"
   ]
  },
  {
   "cell_type": "markdown",
   "id": "ac950c1e",
   "metadata": {},
   "source": [
    "# create our 1st class"
   ]
  },
  {
   "cell_type": "code",
   "execution_count": 12,
   "id": "29a691a9",
   "metadata": {},
   "outputs": [],
   "source": [
    "class Phone:\n",
    "    def make_call(self):  #self= perameter/keyword\n",
    "        print('Calling')\n",
    "    def play_game(self):\n",
    "        print('playing game')"
   ]
  },
  {
   "cell_type": "code",
   "execution_count": 13,
   "id": "bf8c4ef9",
   "metadata": {},
   "outputs": [],
   "source": [
    "p1=Phone()  #initiating a object"
   ]
  },
  {
   "cell_type": "code",
   "execution_count": 14,
   "id": "1c5cf581",
   "metadata": {},
   "outputs": [
    {
     "name": "stdout",
     "output_type": "stream",
     "text": [
      "Calling\n"
     ]
    }
   ],
   "source": [
    "p1.make_call()"
   ]
  },
  {
   "cell_type": "code",
   "execution_count": 15,
   "id": "19f45ae6",
   "metadata": {},
   "outputs": [
    {
     "name": "stdout",
     "output_type": "stream",
     "text": [
      "playing game\n"
     ]
    }
   ],
   "source": [
    "p1.play_game()"
   ]
  },
  {
   "cell_type": "code",
   "execution_count": 16,
   "id": "2c6da4a0",
   "metadata": {},
   "outputs": [
    {
     "data": {
      "text/plain": [
       "<bound method Phone.make_call of <__main__.Phone object at 0x000001E60DBF5640>>"
      ]
     },
     "execution_count": 16,
     "metadata": {},
     "output_type": "execute_result"
    }
   ],
   "source": [
    "p1.make_call\n"
   ]
  },
  {
   "cell_type": "code",
   "execution_count": 9,
   "id": "2773c773",
   "metadata": {},
   "outputs": [
    {
     "data": {
      "text/plain": [
       "<bound method Phone.play_game of <__main__.Phone object at 0x000001E60C921490>>"
      ]
     },
     "execution_count": 9,
     "metadata": {},
     "output_type": "execute_result"
    }
   ],
   "source": [
    "p1.play_game"
   ]
  },
  {
   "cell_type": "markdown",
   "id": "16b9bb87",
   "metadata": {},
   "source": [
    "# Adding parameter to the class"
   ]
  },
  {
   "cell_type": "code",
   "execution_count": 15,
   "id": "2b94da55",
   "metadata": {},
   "outputs": [],
   "source": [
    "class Phone:\n",
    "    def set_color(self,color):\n",
    "        self.color=color\n",
    "    def set_cost(self,cost):\n",
    "        self.cost=cost\n",
    "    def show_color(self):\n",
    "        return (self.color)\n",
    "    def show_cost(self):\n",
    "        return (self.cost)\n",
    "    def make_call(self):  #self= perameter/keyword\n",
    "        print('Calling')\n",
    "    def play_game(self):\n",
    "        print('playing game')"
   ]
  },
  {
   "cell_type": "code",
   "execution_count": 16,
   "id": "7fd14fdc",
   "metadata": {},
   "outputs": [],
   "source": [
    "p2=Phone()"
   ]
  },
  {
   "cell_type": "code",
   "execution_count": 17,
   "id": "877aa2a2",
   "metadata": {},
   "outputs": [],
   "source": [
    "p2.set_color('Black')\n",
    "p2.set_cost(35000)"
   ]
  },
  {
   "cell_type": "code",
   "execution_count": 18,
   "id": "91a46c40",
   "metadata": {},
   "outputs": [
    {
     "data": {
      "text/plain": [
       "'Black'"
      ]
     },
     "execution_count": 18,
     "metadata": {},
     "output_type": "execute_result"
    }
   ],
   "source": [
    "p2.show_color()"
   ]
  },
  {
   "cell_type": "code",
   "execution_count": 19,
   "id": "de6ec425",
   "metadata": {},
   "outputs": [
    {
     "data": {
      "text/plain": [
       "35000"
      ]
     },
     "execution_count": 19,
     "metadata": {},
     "output_type": "execute_result"
    }
   ],
   "source": [
    "p2.show_cost()"
   ]
  },
  {
   "cell_type": "code",
   "execution_count": 23,
   "id": "6b973a02",
   "metadata": {},
   "outputs": [
    {
     "name": "stdout",
     "output_type": "stream",
     "text": [
      "Black\n"
     ]
    },
    {
     "data": {
      "text/plain": [
       "35000"
      ]
     },
     "execution_count": 23,
     "metadata": {},
     "output_type": "execute_result"
    }
   ],
   "source": [
    "print(p2.show_color())\n",
    "p2.show_cost()"
   ]
  },
  {
   "cell_type": "code",
   "execution_count": 21,
   "id": "46609bcc",
   "metadata": {},
   "outputs": [
    {
     "data": {
      "text/plain": [
       "10"
      ]
     },
     "execution_count": 21,
     "metadata": {},
     "output_type": "execute_result"
    }
   ],
   "source": [
    "5+4\n",
    "6+4"
   ]
  },
  {
   "cell_type": "code",
   "execution_count": 22,
   "id": "fffeb771",
   "metadata": {},
   "outputs": [
    {
     "name": "stdout",
     "output_type": "stream",
     "text": [
      "9\n"
     ]
    },
    {
     "data": {
      "text/plain": [
       "10"
      ]
     },
     "execution_count": 22,
     "metadata": {},
     "output_type": "execute_result"
    }
   ],
   "source": [
    "print(5+4)\n",
    "6+4"
   ]
  },
  {
   "cell_type": "code",
   "execution_count": 30,
   "id": "b64aad42",
   "metadata": {},
   "outputs": [],
   "source": [
    "class Phone:\n",
    "    def set_color(self,color):\n",
    "        self.color=color\n",
    "    def set_cost(self,cost):\n",
    "        self.cost=cost\n",
    "    def show_color(self):\n",
    "        print('thats the color')\n",
    "        return (self.color)\n",
    "        \n",
    "    def show_cost(self):\n",
    "        return (self.cost)\n",
    "    def make_call(self):  #self= perameter/keyword\n",
    "        print('Calling')\n",
    "    def play_game(self):\n",
    "        print('playing game')"
   ]
  },
  {
   "cell_type": "code",
   "execution_count": 31,
   "id": "84afb91b",
   "metadata": {},
   "outputs": [],
   "source": [
    "p4=Phone()"
   ]
  },
  {
   "cell_type": "code",
   "execution_count": 32,
   "id": "6144fb0c",
   "metadata": {},
   "outputs": [],
   "source": [
    "p4.set_color('Black')\n",
    "p4.set_cost(35000)"
   ]
  },
  {
   "cell_type": "code",
   "execution_count": 33,
   "id": "8d942f93",
   "metadata": {},
   "outputs": [
    {
     "name": "stdout",
     "output_type": "stream",
     "text": [
      "thats the color\n"
     ]
    },
    {
     "data": {
      "text/plain": [
       "'Black'"
      ]
     },
     "execution_count": 33,
     "metadata": {},
     "output_type": "execute_result"
    }
   ],
   "source": [
    "p4.show_color()"
   ]
  },
  {
   "cell_type": "code",
   "execution_count": 34,
   "id": "5fdc3397",
   "metadata": {},
   "outputs": [
    {
     "name": "stdout",
     "output_type": "stream",
     "text": [
      "thats the color\n",
      "Black\n"
     ]
    }
   ],
   "source": [
    "print(p4.show_color())"
   ]
  },
  {
   "cell_type": "code",
   "execution_count": null,
   "id": "ab577fbb",
   "metadata": {},
   "outputs": [],
   "source": []
  }
 ],
 "metadata": {
  "kernelspec": {
   "display_name": "Python 3 (ipykernel)",
   "language": "python",
   "name": "python3"
  },
  "language_info": {
   "codemirror_mode": {
    "name": "ipython",
    "version": 3
   },
   "file_extension": ".py",
   "mimetype": "text/x-python",
   "name": "python",
   "nbconvert_exporter": "python",
   "pygments_lexer": "ipython3",
   "version": "3.9.12"
  }
 },
 "nbformat": 4,
 "nbformat_minor": 5
}
