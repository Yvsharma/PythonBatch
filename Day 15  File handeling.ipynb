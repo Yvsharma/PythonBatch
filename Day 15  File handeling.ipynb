{
 "cells": [
  {
   "cell_type": "markdown",
   "id": "82462d32",
   "metadata": {},
   "source": [
    "# File handeling"
   ]
  },
  {
   "cell_type": "markdown",
   "id": "16e17c29",
   "metadata": {},
   "source": [
    "file handeling is an important part of web application."
   ]
  },
  {
   "cell_type": "markdown",
   "id": "485b1b45",
   "metadata": {},
   "source": [
    "we can do several function for creating , reading, updating and deleating file. "
   ]
  },
  {
   "cell_type": "markdown",
   "id": "c581e768",
   "metadata": {},
   "source": [
    "File haneling permissions"
   ]
  },
  {
   "cell_type": "markdown",
   "id": "b7977381",
   "metadata": {},
   "source": [
    "# Read a file :- 'r'\n",
    "\n",
    "# write a value in a file :- 'w'\n",
    "# append a value in file :- 'a'"
   ]
  },
  {
   "cell_type": "markdown",
   "id": "b9dd6d21",
   "metadata": {},
   "source": [
    "# file creat"
   ]
  },
  {
   "cell_type": "code",
   "execution_count": 2,
   "id": "c3d211c1",
   "metadata": {},
   "outputs": [
    {
     "name": "stdout",
     "output_type": "stream",
     "text": [
      "file created\n"
     ]
    }
   ],
   "source": [
    "# open method ('file name','permission')\n",
    "\n",
    "s='This is my file handeling program'\n",
    "\n",
    "file= open('demo1.txt','w')\n",
    "file.write(s)\n",
    "print('file created')\n",
    "\n",
    "#if we didn't close the file then data will not be stored\n",
    "file.close()"
   ]
  },
  {
   "cell_type": "markdown",
   "id": "127a6daf",
   "metadata": {},
   "source": [
    "# file read"
   ]
  },
  {
   "cell_type": "code",
   "execution_count": 3,
   "id": "4e4be2ac",
   "metadata": {},
   "outputs": [],
   "source": [
    "# file = open ('file name',per,ission)"
   ]
  },
  {
   "cell_type": "code",
   "execution_count": 4,
   "id": "d61b2739",
   "metadata": {},
   "outputs": [],
   "source": [
    "file=open('demo1.txt','r')"
   ]
  },
  {
   "cell_type": "code",
   "execution_count": 5,
   "id": "707fc3f7",
   "metadata": {},
   "outputs": [
    {
     "name": "stdout",
     "output_type": "stream",
     "text": [
      "This is my file handeling program\n"
     ]
    }
   ],
   "source": [
    "# to print the file on the notebook\n",
    "filecontent=file.read()\n",
    "print(filecontent)"
   ]
  },
  {
   "cell_type": "markdown",
   "id": "be12c57a",
   "metadata": {},
   "source": [
    "# list storing in a file"
   ]
  },
  {
   "cell_type": "markdown",
   "id": "102585f0",
   "metadata": {},
   "source": [
    "when a list get stored into a file it will be stored in a single string, because python store list into single block memory. "
   ]
  },
  {
   "cell_type": "code",
   "execution_count": 7,
   "id": "5f7d337f",
   "metadata": {},
   "outputs": [],
   "source": [
    "l1=['Python','Java','Php']\n"
   ]
  },
  {
   "cell_type": "code",
   "execution_count": 8,
   "id": "06650673",
   "metadata": {},
   "outputs": [
    {
     "name": "stdout",
     "output_type": "stream",
     "text": [
      "file created\n"
     ]
    }
   ],
   "source": [
    "file=open('demo2.txt','w')\n",
    "file.writelines(l1)\n",
    "print('file created')\n",
    "\n",
    "file.close()"
   ]
  },
  {
   "cell_type": "code",
   "execution_count": 9,
   "id": "0a32e1e2",
   "metadata": {},
   "outputs": [
    {
     "name": "stdout",
     "output_type": "stream",
     "text": [
      "['PythonJavaPhp']\n"
     ]
    }
   ],
   "source": [
    "# red a list from file\n",
    "\n",
    "file=open('demo2.txt','r')\n",
    "filelist=file.readlines()\n",
    "print(filelist)"
   ]
  },
  {
   "cell_type": "markdown",
   "id": "33e5f756",
   "metadata": {},
   "source": [
    "# appending the value into file"
   ]
  },
  {
   "cell_type": "code",
   "execution_count": 10,
   "id": "d0d449a2",
   "metadata": {},
   "outputs": [
    {
     "name": "stdout",
     "output_type": "stream",
     "text": [
      "file updated\n"
     ]
    }
   ],
   "source": [
    "s='python handeling file'\n",
    "\n",
    "file=open('demo1.txt','a')\n",
    "file.write(s)\n",
    "print('file updated')\n",
    "\n",
    "file.close()"
   ]
  },
  {
   "cell_type": "code",
   "execution_count": 11,
   "id": "fe316fd0",
   "metadata": {},
   "outputs": [
    {
     "name": "stdout",
     "output_type": "stream",
     "text": [
      "This is my file handeling programpython handeling file\n"
     ]
    }
   ],
   "source": [
    "file=open('demo1.txt','r')\n",
    "filecontent1=file.read()\n",
    "print(filecontent1)"
   ]
  },
  {
   "cell_type": "markdown",
   "id": "882d1418",
   "metadata": {},
   "source": [
    "#File handeling questions\n",
    "\n",
    "Q1) WAP to create a .txt file and read an entire text file.\n",
    "\n",
    "Q2) WAP to read first N lines of a File.\n",
    "\n",
    "Q3) WAP to append text to a file and display the text.\n",
    "\n",
    "Q4) WAP to store given list ['Apple','Mango','Orange'] into file. :- use inbuilt function writelines.\n",
    "\n",
    "Q5) WAP to read list from a file."
   ]
  },
  {
   "cell_type": "code",
   "execution_count": null,
   "id": "0fe9ba64",
   "metadata": {},
   "outputs": [],
   "source": []
  }
 ],
 "metadata": {
  "kernelspec": {
   "display_name": "Python 3 (ipykernel)",
   "language": "python",
   "name": "python3"
  },
  "language_info": {
   "codemirror_mode": {
    "name": "ipython",
    "version": 3
   },
   "file_extension": ".py",
   "mimetype": "text/x-python",
   "name": "python",
   "nbconvert_exporter": "python",
   "pygments_lexer": "ipython3",
   "version": "3.9.12"
  }
 },
 "nbformat": 4,
 "nbformat_minor": 5
}
