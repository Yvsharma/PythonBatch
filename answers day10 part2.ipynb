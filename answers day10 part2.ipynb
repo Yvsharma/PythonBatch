{
 "cells": [
  {
   "cell_type": "code",
   "execution_count": 7,
   "id": "cc5d739a",
   "metadata": {},
   "outputs": [
    {
     "name": "stdout",
     "output_type": "stream",
     "text": [
      "abc def\n"
     ]
    }
   ],
   "source": [
    "#q1\n",
    "def my_function(fname,lname):\n",
    "    print(fname,lname)\n",
    "my_function('abc','def')"
   ]
  },
  {
   "cell_type": "code",
   "execution_count": 9,
   "id": "ba866ca9",
   "metadata": {},
   "outputs": [
    {
     "name": "stdout",
     "output_type": "stream",
     "text": [
      "(1, 2, 3)\n"
     ]
    }
   ],
   "source": [
    "#q2\n",
    "def abc(*num):\n",
    "    print(num)\n",
    "abc(1,2,3)"
   ]
  },
  {
   "cell_type": "code",
   "execution_count": 10,
   "id": "38e78547",
   "metadata": {},
   "outputs": [
    {
     "name": "stdout",
     "output_type": "stream",
     "text": [
      "(50, 30, 400, 4.0)\n"
     ]
    }
   ],
   "source": [
    "#q3\n",
    "def calculation(a,b):\n",
    "    return(a+b,a-b,a*b,a/b)\n",
    "res=calculation(40,10)\n",
    "print(res)"
   ]
  },
  {
   "cell_type": "code",
   "execution_count": 33,
   "id": "3db95ea4",
   "metadata": {},
   "outputs": [
    {
     "name": "stdout",
     "output_type": "stream",
     "text": [
      "Name :  ben   Salary :  12000\n",
      "Name :  jessa   Salary :  10000\n"
     ]
    }
   ],
   "source": [
    "#q4\n",
    "def function(name,salary=10000):\n",
    "    print('Name : ',name,' ','Salary : ',salary)\n",
    "function('ben',12000)\n",
    "function('jessa')"
   ]
  },
  {
   "cell_type": "code",
   "execution_count": 6,
   "id": "01986962",
   "metadata": {},
   "outputs": [
    {
     "name": "stdout",
     "output_type": "stream",
     "text": [
      "40\n"
     ]
    }
   ],
   "source": [
    "#q5\n",
    "def function(a,b):\n",
    "    def inner_fuction(a,b):\n",
    "        return a+b\n",
    "    c=inner_fuction(a,b)\n",
    "    return c+10\n",
    "print(function(10,20))"
   ]
  },
  {
   "cell_type": "code",
   "execution_count": 9,
   "id": "11d5f006",
   "metadata": {},
   "outputs": [
    {
     "name": "stdout",
     "output_type": "stream",
     "text": [
      "enter the value : 5\n",
      "The factorial of 5 is 120\n"
     ]
    }
   ],
   "source": [
    "#q6\n",
    "def factorial(x):\n",
    "    if x == 1:\n",
    "        return 1\n",
    "    else:\n",
    "        return (x * factorial(x-1))\n",
    "num=int(input('enter the value : ')) \n",
    "print(\"The factorial of\", num, \"is\", factorial(num))"
   ]
  },
  {
   "cell_type": "code",
   "execution_count": 3,
   "id": "c3f3e26a",
   "metadata": {},
   "outputs": [
    {
     "name": "stdout",
     "output_type": "stream",
     "text": [
      "Emma 26\n"
     ]
    }
   ],
   "source": [
    "#Q7\n",
    "def display_student(name, age):\n",
    "    print(name, age)\n",
    "new_name=display_student\n",
    "new_name(\"Emma\",26)"
   ]
  },
  {
   "cell_type": "code",
   "execution_count": 7,
   "id": "3b555341",
   "metadata": {},
   "outputs": [
    {
     "name": "stdout",
     "output_type": "stream",
     "text": [
      "[4, 6, 8, 10, 12, 14, 16, 18, 20, 22, 24, 26, 28]\n"
     ]
    }
   ],
   "source": [
    "#q8\n",
    "list1=[]\n",
    "for i in range(4,30,2):\n",
    "    list1.append(i)\n",
    "print(list1)"
   ]
  },
  {
   "cell_type": "code",
   "execution_count": 5,
   "id": "fe51d755",
   "metadata": {},
   "outputs": [
    {
     "name": "stdout",
     "output_type": "stream",
     "text": [
      "24\n"
     ]
    }
   ],
   "source": [
    "#q9\n",
    "x=[4, 6, 8, 24, 12, 2]\n",
    "x.sort()\n",
    "print(x[len(x)-1])"
   ]
  }
 ],
 "metadata": {
  "kernelspec": {
   "display_name": "Python 3 (ipykernel)",
   "language": "python",
   "name": "python3"
  },
  "language_info": {
   "codemirror_mode": {
    "name": "ipython",
    "version": 3
   },
   "file_extension": ".py",
   "mimetype": "text/x-python",
   "name": "python",
   "nbconvert_exporter": "python",
   "pygments_lexer": "ipython3",
   "version": "3.10.9"
  }
 },
 "nbformat": 4,
 "nbformat_minor": 5
}
