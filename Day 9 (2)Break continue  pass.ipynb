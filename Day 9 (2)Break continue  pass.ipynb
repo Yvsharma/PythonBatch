{
 "cells": [
  {
   "cell_type": "markdown",
   "id": "1bafeb73",
   "metadata": {},
   "source": [
    "# Break"
   ]
  },
  {
   "cell_type": "markdown",
   "id": "817221c3",
   "metadata": {},
   "source": [
    "### Terminate the current loop. Use the break statement to come out of the loop instantly."
   ]
  },
  {
   "cell_type": "code",
   "execution_count": null,
   "id": "6096c39f",
   "metadata": {},
   "outputs": [],
   "source": [
    "#Break for loop\n",
    "numbers = [10, 40, 120, 230]\n",
    "for i in numbers:\n",
    "    if i > 100:\n",
    "        break\n",
    "    print('current number', i)"
   ]
  },
  {
   "cell_type": "code",
   "execution_count": null,
   "id": "88f2342e",
   "metadata": {},
   "outputs": [],
   "source": [
    "#Break while loop\n",
    "name = 'Programming Classes'\n",
    "\n",
    "size = len(name)\n",
    "i = 0\n",
    "# iterate loop till the last character\n",
    "while i < size:\n",
    "    # break loop if current character is space\n",
    "    if name[i].isspace():\n",
    "        break\n",
    "    # print current character\n",
    "    print(name[i], end=' ')\n",
    "    i = i + 1"
   ]
  },
  {
   "cell_type": "code",
   "execution_count": null,
   "id": "aeca91fb",
   "metadata": {},
   "outputs": [],
   "source": [
    "#Break Nested Loop\n",
    "for i in range(1, 11):\n",
    "    print('Multiplication table of', i)\n",
    "    for j in range(1, 11):\n",
    "        # condition to break inner loop\n",
    "        if i > 5 and j > 5:\n",
    "            break\n",
    "        print(i * j, end=' ')\n",
    "    print('')"
   ]
  },
  {
   "cell_type": "code",
   "execution_count": null,
   "id": "9bcd5e71",
   "metadata": {},
   "outputs": [],
   "source": [
    "#Break outer loop\n",
    "for i in range(1, 11):\n",
    "    # condition to break outer loop\n",
    "    if i > 5:\n",
    "        break\n",
    "    print('Multiplication table of', i)\n",
    "    for j in range(1, 11):\n",
    "        print(i * j, end=' ')\n",
    "    print('')"
   ]
  },
  {
   "cell_type": "markdown",
   "id": "a6f00b81",
   "metadata": {},
   "source": [
    "# Continue"
   ]
  },
  {
   "cell_type": "markdown",
   "id": "66dd5653",
   "metadata": {},
   "source": [
    "### Skip the current iteration of a loop and move to the next iteration"
   ]
  },
  {
   "cell_type": "code",
   "execution_count": null,
   "id": "6460f9d6",
   "metadata": {},
   "outputs": [],
   "source": [
    "#continue statement in for loop\n",
    "numbers = [2, 3, 11, 7]\n",
    "for i in numbers:\n",
    "    print('Current Number is', i)\n",
    "    # skip below statement if number is greater than 10\n",
    "    if i > 10:\n",
    "        continue\n",
    "    square = i * i\n",
    "    print('Square of a current number is', square)"
   ]
  },
  {
   "cell_type": "code",
   "execution_count": null,
   "id": "ba16ebb4",
   "metadata": {},
   "outputs": [],
   "source": [
    "#continue statement in while loop\n",
    "name = 'A E I O U'\n",
    "\n",
    "size = len(name)\n",
    "i = -1\n",
    "# iterate loop till the last character\n",
    "while i < size - 1:\n",
    "    i = i + 1\n",
    "    # skip loop body if current character is space\n",
    "    if name[i].isspace():\n",
    "        continue\n",
    "    # print current character\n",
    "    print(name[i], end=' ')"
   ]
  },
  {
   "cell_type": "code",
   "execution_count": null,
   "id": "358f8889",
   "metadata": {},
   "outputs": [],
   "source": [
    "#Continue Statement in Nested Loop\n",
    "for i in range(1, 11):\n",
    "    print('Multiplication table of', i)\n",
    "    for j in range(1, 11):\n",
    "        # condition to skip current iteration\n",
    "        if j == 5:\n",
    "            continue\n",
    "        print(i * j, end=' ')\n",
    "    print('')"
   ]
  },
  {
   "cell_type": "code",
   "execution_count": null,
   "id": "69f442c6",
   "metadata": {},
   "outputs": [],
   "source": [
    "#Continue Statement in Outer loop\n",
    "for i in range(1, 11):\n",
    "    # condition to skip iteration\n",
    "    # Don't print multiplication table of even numbers\n",
    "    if i % 2 == 0:\n",
    "        continue\n",
    "    print('Multiplication table of', i)\n",
    "    for j in range(1, 11):\n",
    "        print(i * j, end=' ')\n",
    "    print('')"
   ]
  },
  {
   "cell_type": "markdown",
   "id": "0529976a",
   "metadata": {},
   "source": [
    "# Pass"
   ]
  },
  {
   "cell_type": "markdown",
   "id": "a2b13771",
   "metadata": {},
   "source": [
    "### Do nothing. Ignore the condition in which it occurred and proceed to run the program as usual"
   ]
  },
  {
   "cell_type": "code",
   "execution_count": null,
   "id": "dd41aa51",
   "metadata": {},
   "outputs": [],
   "source": [
    "months = ['January', 'June', 'March', 'April']\n",
    "for mon in months:\n",
    "    pass\n",
    "print(months)"
   ]
  },
  {
   "cell_type": "code",
   "execution_count": null,
   "id": "65f06a6c",
   "metadata": {},
   "outputs": [],
   "source": []
  }
 ],
 "metadata": {
  "kernelspec": {
   "display_name": "Python 3 (ipykernel)",
   "language": "python",
   "name": "python3"
  },
  "language_info": {
   "codemirror_mode": {
    "name": "ipython",
    "version": 3
   },
   "file_extension": ".py",
   "mimetype": "text/x-python",
   "name": "python",
   "nbconvert_exporter": "python",
   "pygments_lexer": "ipython3",
   "version": "3.9.12"
  }
 },
 "nbformat": 4,
 "nbformat_minor": 5
}
