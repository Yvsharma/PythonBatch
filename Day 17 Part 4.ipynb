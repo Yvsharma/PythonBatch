{
 "cells": [
  {
   "cell_type": "markdown",
   "id": "b3176225",
   "metadata": {},
   "source": [
    "# Abstraction"
   ]
  },
  {
   "cell_type": "markdown",
   "id": "38b5cc67",
   "metadata": {},
   "source": [
    "a class that consist of one or more abstract metchod is called the abstract class"
   ]
  },
  {
   "cell_type": "markdown",
   "id": "058655df",
   "metadata": {},
   "source": [
    "abstract method do not contain their implementation.\n",
    "\n",
    "abstract class can be inherited by sub class and abstract method get it's defination in the subclass.\n"
   ]
  },
  {
   "cell_type": "markdown",
   "id": "4fca68b1",
   "metadata": {},
   "source": [
    "Ex- RBI - > bank1, bank2 bank3\n",
    "\n",
    "parent class = abstract class\n",
    "(which does not have any body)"
   ]
  },
  {
   "cell_type": "code",
   "execution_count": 2,
   "id": "d7edc51f",
   "metadata": {},
   "outputs": [],
   "source": [
    "class RBI(): #parent class\n",
    "    def interest(self):\n",
    "        pass\n",
    "    \n",
    "class SBI(RBI): #child1\n",
    "    def interest(self):\n",
    "        print('SBI interest rate is 5%')\n",
    "        \n",
    "class HDFC(RBI):\n",
    "    def interest(self):\n",
    "        print('SBI interest rate is 7%')\n",
    "        "
   ]
  },
  {
   "cell_type": "code",
   "execution_count": 3,
   "id": "4ad35e2a",
   "metadata": {},
   "outputs": [],
   "source": [
    "# creating object\n",
    "\n",
    "s=SBI()\n",
    "h=HDFC()"
   ]
  },
  {
   "cell_type": "code",
   "execution_count": 4,
   "id": "3b509244",
   "metadata": {},
   "outputs": [
    {
     "name": "stdout",
     "output_type": "stream",
     "text": [
      "SBI interest rate is 5%\n"
     ]
    }
   ],
   "source": [
    "# invoking\n",
    "\n",
    "s.interest()"
   ]
  },
  {
   "cell_type": "code",
   "execution_count": 5,
   "id": "7654114d",
   "metadata": {},
   "outputs": [
    {
     "name": "stdout",
     "output_type": "stream",
     "text": [
      "SBI interest rate is 7%\n"
     ]
    }
   ],
   "source": [
    "h.interest()"
   ]
  },
  {
   "cell_type": "markdown",
   "id": "af08f77e",
   "metadata": {},
   "source": [
    "# Encapsulation"
   ]
  },
  {
   "cell_type": "markdown",
   "id": "5ee70144",
   "metadata": {},
   "source": [
    "the process of wrapping up the variable and method into a single entity is called Encapsulation"
   ]
  },
  {
   "cell_type": "markdown",
   "id": "cccd34f1",
   "metadata": {},
   "source": [
    "Achive encap.\n",
    "\n",
    "_ (single underscore) = Protected\n",
    "\n",
    "__ (double underscore) = private"
   ]
  },
  {
   "cell_type": "code",
   "execution_count": 6,
   "id": "b635e519",
   "metadata": {},
   "outputs": [],
   "source": [
    "# private\n",
    "\n",
    "class A : #parent class\n",
    "    def __init__(self,a):\n",
    "        self.__a=a # private veriable\n",
    "        \n",
    "    def show(self):\n",
    "        print('private method', self.__a)\n",
    "        \n",
    "        \n",
    "class B(A) :\n",
    "    def __init__(self,b):\n",
    "        super().__init__(b)\n",
    "        \n",
    "    def showB(self):\n",
    "        print(self.__a)"
   ]
  },
  {
   "cell_type": "code",
   "execution_count": 7,
   "id": "664c44a6",
   "metadata": {},
   "outputs": [],
   "source": [
    "# object creation\n",
    "\n",
    "obj= B(20)"
   ]
  },
  {
   "cell_type": "code",
   "execution_count": 8,
   "id": "5b85cb78",
   "metadata": {},
   "outputs": [
    {
     "ename": "AttributeError",
     "evalue": "'B' object has no attribute '_B__a'",
     "output_type": "error",
     "traceback": [
      "\u001b[1;31m---------------------------------------------------------------------------\u001b[0m",
      "\u001b[1;31mAttributeError\u001b[0m                            Traceback (most recent call last)",
      "Input \u001b[1;32mIn [8]\u001b[0m, in \u001b[0;36m<cell line: 1>\u001b[1;34m()\u001b[0m\n\u001b[1;32m----> 1\u001b[0m \u001b[43mobj\u001b[49m\u001b[38;5;241;43m.\u001b[39;49m\u001b[43mshowB\u001b[49m\u001b[43m(\u001b[49m\u001b[43m)\u001b[49m\n",
      "Input \u001b[1;32mIn [6]\u001b[0m, in \u001b[0;36mB.showB\u001b[1;34m(self)\u001b[0m\n\u001b[0;32m     15\u001b[0m \u001b[38;5;28;01mdef\u001b[39;00m \u001b[38;5;21mshowB\u001b[39m(\u001b[38;5;28mself\u001b[39m):\n\u001b[1;32m---> 16\u001b[0m     \u001b[38;5;28mprint\u001b[39m(\u001b[38;5;28;43mself\u001b[39;49m\u001b[38;5;241;43m.\u001b[39;49m\u001b[43m__a\u001b[49m)\n",
      "\u001b[1;31mAttributeError\u001b[0m: 'B' object has no attribute '_B__a'"
     ]
    }
   ],
   "source": [
    "obj.showB()"
   ]
  },
  {
   "cell_type": "code",
   "execution_count": 9,
   "id": "cc7d70a7",
   "metadata": {},
   "outputs": [],
   "source": [
    "# protected\n",
    "\n",
    "class A : #parent class\n",
    "    def __init__(self,a):\n",
    "        self._a=a # protected veriable\n",
    "        \n",
    "    def show(self):\n",
    "        print('protected method', self._a)\n",
    "        \n",
    "        \n",
    "class B(A) :\n",
    "    def __init__(self,b):\n",
    "        super().__init__(b)\n",
    "        \n",
    "    def showB(self):\n",
    "        print('variable value',self._a)"
   ]
  },
  {
   "cell_type": "code",
   "execution_count": 10,
   "id": "70565967",
   "metadata": {},
   "outputs": [],
   "source": [
    "# object create\n",
    "\n",
    "obj1=B(30)"
   ]
  },
  {
   "cell_type": "code",
   "execution_count": 12,
   "id": "37670206",
   "metadata": {},
   "outputs": [
    {
     "name": "stdout",
     "output_type": "stream",
     "text": [
      "variable value 30\n"
     ]
    }
   ],
   "source": [
    "obj1.showB()"
   ]
  },
  {
   "cell_type": "markdown",
   "id": "526ef120",
   "metadata": {},
   "source": [
    "# Note :- \n",
    "1) Varibles with the public access modifiers can be accessed anywhere inside or outside the class.\n",
    "\n",
    "2) the private variables can only be accessed inside the class.\n",
    "\n",
    "3) the protected variables can be accessed within the same package."
   ]
  },
  {
   "cell_type": "markdown",
   "id": "6fe3f963",
   "metadata": {},
   "source": [
    "# Exception handeling"
   ]
  },
  {
   "cell_type": "markdown",
   "id": "3463e7c2",
   "metadata": {},
   "source": [
    "types - 1) Syntax error \n",
    "        2) Exception\n",
    "        3) User defined exception"
   ]
  },
  {
   "cell_type": "code",
   "execution_count": 15,
   "id": "4817b84b",
   "metadata": {},
   "outputs": [
    {
     "name": "stdout",
     "output_type": "stream",
     "text": [
      "5.0\n"
     ]
    }
   ],
   "source": [
    "a=10\n",
    "b=2\n",
    "c= a/b\n",
    "print(c)"
   ]
  },
  {
   "cell_type": "code",
   "execution_count": 16,
   "id": "00469cb8",
   "metadata": {},
   "outputs": [
    {
     "ename": "ZeroDivisionError",
     "evalue": "division by zero",
     "output_type": "error",
     "traceback": [
      "\u001b[1;31m---------------------------------------------------------------------------\u001b[0m",
      "\u001b[1;31mZeroDivisionError\u001b[0m                         Traceback (most recent call last)",
      "Input \u001b[1;32mIn [16]\u001b[0m, in \u001b[0;36m<cell line: 3>\u001b[1;34m()\u001b[0m\n\u001b[0;32m      1\u001b[0m a\u001b[38;5;241m=\u001b[39m\u001b[38;5;241m10\u001b[39m\n\u001b[0;32m      2\u001b[0m b\u001b[38;5;241m=\u001b[39m\u001b[38;5;241m0\u001b[39m\n\u001b[1;32m----> 3\u001b[0m c\u001b[38;5;241m=\u001b[39m \u001b[43ma\u001b[49m\u001b[38;5;241;43m/\u001b[39;49m\u001b[43mb\u001b[49m\n\u001b[0;32m      4\u001b[0m \u001b[38;5;28mprint\u001b[39m(c)\n",
      "\u001b[1;31mZeroDivisionError\u001b[0m: division by zero"
     ]
    }
   ],
   "source": [
    "a=10\n",
    "b=0\n",
    "c= a/b\n",
    "print(c)"
   ]
  },
  {
   "cell_type": "markdown",
   "id": "ed171263",
   "metadata": {},
   "source": [
    "# solution\n",
    "\n",
    "try : \n",
    "    \n",
    "    # the code which is written in try block can be occur error at runtime .\n",
    "    \n",
    "except:\n",
    "    \n",
    "    # if the error occur except program will run."
   ]
  },
  {
   "cell_type": "code",
   "execution_count": 17,
   "id": "fb6a49cc",
   "metadata": {},
   "outputs": [
    {
     "name": "stdout",
     "output_type": "stream",
     "text": [
      "Enter value of A : 2\n",
      "Enter value of B : 2\n",
      "Answer :  1.0\n",
      "Bye\n"
     ]
    }
   ],
   "source": [
    "try :\n",
    "    a = int(input('Enter value of A : '))\n",
    "    b = int(input('Enter value of B : '))\n",
    "    c = a/b\n",
    "    print('Answer : ',c)\n",
    "    \n",
    "except Exception as e:\n",
    "    print('Exception caught : ', e)\n",
    "    \n",
    "print('Bye')"
   ]
  },
  {
   "cell_type": "code",
   "execution_count": 19,
   "id": "573a737a",
   "metadata": {},
   "outputs": [
    {
     "name": "stdout",
     "output_type": "stream",
     "text": [
      "Enter value of A : 2\n",
      "Enter value of B : 5\n",
      "Answer :  0.4\n",
      "Bye\n"
     ]
    }
   ],
   "source": [
    "# if values are correct\n",
    "try :\n",
    "    a = int(input('Enter value of A : '))\n",
    "    b = int(input('Enter value of B : '))\n",
    "    c = a/b\n",
    "    print('Answer : ',c)\n",
    "    \n",
    "except Exception as e:\n",
    "    print('Exception caught : ', e)\n",
    "    \n",
    "print('Bye')"
   ]
  },
  {
   "cell_type": "code",
   "execution_count": 20,
   "id": "39d00a2d",
   "metadata": {},
   "outputs": [
    {
     "name": "stdout",
     "output_type": "stream",
     "text": [
      "Enter value of A : 10\n",
      "Enter value of B : 0\n",
      "Exception caught :  division by zero\n",
      "Bye\n"
     ]
    }
   ],
   "source": [
    "# if values are not correct\n",
    "try :\n",
    "    a = int(input('Enter value of A : '))\n",
    "    b = int(input('Enter value of B : '))\n",
    "    c = a/b\n",
    "    print('Answer : ',c)\n",
    "    \n",
    "except Exception as e:\n",
    "    print('Exception caught : ', e)\n",
    "    \n",
    "print('Bye')"
   ]
  },
  {
   "cell_type": "code",
   "execution_count": 21,
   "id": "c75f392e",
   "metadata": {},
   "outputs": [
    {
     "name": "stdout",
     "output_type": "stream",
     "text": [
      "Enter value of A : 54\n",
      "Enter value of B : two\n",
      "Exception caught :  invalid literal for int() with base 10: 'two'\n",
      "Bye\n"
     ]
    }
   ],
   "source": [
    "# if values are not correct\n",
    "try :\n",
    "    a = int(input('Enter value of A : '))\n",
    "    b = int(input('Enter value of B : '))\n",
    "    c = a/b\n",
    "    print('Answer : ',c)\n",
    "    \n",
    "except Exception as e:\n",
    "    print('Exception caught : ', e)\n",
    "    \n",
    "print('Bye')"
   ]
  },
  {
   "cell_type": "code",
   "execution_count": 26,
   "id": "21b2720f",
   "metadata": {},
   "outputs": [
    {
     "name": "stdout",
     "output_type": "stream",
     "text": [
      "variable is not defined name 'x' is not defined\n"
     ]
    }
   ],
   "source": [
    "# many exception\n",
    "\n",
    "try :\n",
    "    print(x)\n",
    "except Exception as z:\n",
    "    print('variable is not defined',z)\n",
    "except :\n",
    "    print( \"Exception caught\")"
   ]
  },
  {
   "cell_type": "code",
   "execution_count": 27,
   "id": "79e90b5b",
   "metadata": {},
   "outputs": [
    {
     "name": "stdout",
     "output_type": "stream",
     "text": [
      "hello\n",
      "nothingh\n"
     ]
    }
   ],
   "source": [
    "# use of if else\n",
    "\n",
    "try :\n",
    "    print('hello')\n",
    "    \n",
    "except:\n",
    "    print('something went wrong')\n",
    "    \n",
    "else:\n",
    "    print('nothingh')"
   ]
  },
  {
   "cell_type": "code",
   "execution_count": 28,
   "id": "420563b8",
   "metadata": {},
   "outputs": [
    {
     "name": "stdout",
     "output_type": "stream",
     "text": [
      "something went wrong\n"
     ]
    }
   ],
   "source": [
    "try :\n",
    "    print(x)\n",
    "    \n",
    "except:\n",
    "    print('something went wrong')\n",
    "    \n",
    "else:\n",
    "    print('nothingh')"
   ]
  },
  {
   "cell_type": "code",
   "execution_count": 29,
   "id": "a0238fe1",
   "metadata": {},
   "outputs": [
    {
     "name": "stdout",
     "output_type": "stream",
     "text": [
      "hello\n",
      "have a great day\n"
     ]
    }
   ],
   "source": [
    "# finally block\n",
    "\n",
    "# the block which run compulsory if error occurs or not.\n",
    "\n",
    "try: \n",
    "    print('hello')\n",
    "    \n",
    "except:\n",
    "    print('something went wrong')\n",
    "    \n",
    "finally:\n",
    "    print('have a great day')"
   ]
  },
  {
   "cell_type": "code",
   "execution_count": 30,
   "id": "5fe2d503",
   "metadata": {},
   "outputs": [
    {
     "name": "stdout",
     "output_type": "stream",
     "text": [
      "something went wrong\n",
      "have a great day\n"
     ]
    }
   ],
   "source": [
    "try: \n",
    "    print(x)\n",
    "    \n",
    "except:\n",
    "    print('something went wrong')\n",
    "    \n",
    "finally:\n",
    "    print('have a great day')"
   ]
  },
  {
   "cell_type": "code",
   "execution_count": 31,
   "id": "dd6e10a5",
   "metadata": {},
   "outputs": [
    {
     "ename": "myfun",
     "evalue": "something is not good",
     "output_type": "error",
     "traceback": [
      "\u001b[1;31m---------------------------------------------------------------------------\u001b[0m",
      "\u001b[1;31mmyfun\u001b[0m                                     Traceback (most recent call last)",
      "Input \u001b[1;32mIn [31]\u001b[0m, in \u001b[0;36m<cell line: 7>\u001b[1;34m()\u001b[0m\n\u001b[0;32m      6\u001b[0m c\u001b[38;5;241m=\u001b[39m\u001b[38;5;241m25\u001b[39m\n\u001b[0;32m      7\u001b[0m \u001b[38;5;28;01mif\u001b[39;00m c\u001b[38;5;241m>\u001b[39m\u001b[38;5;241m5\u001b[39m:\n\u001b[1;32m----> 8\u001b[0m     \u001b[38;5;28;01mraise\u001b[39;00m myfun(\u001b[38;5;124m'\u001b[39m\u001b[38;5;124msomething is not good\u001b[39m\u001b[38;5;124m'\u001b[39m)\n",
      "\u001b[1;31mmyfun\u001b[0m: something is not good"
     ]
    }
   ],
   "source": [
    "\n",
    "# User defined exception\n",
    "\n",
    "class myfun(Exception):\n",
    "    pass\n",
    "\n",
    "c=25\n",
    "if c>5:\n",
    "    raise myfun('something is not good')"
   ]
  },
  {
   "cell_type": "markdown",
   "id": "d296c457",
   "metadata": {},
   "source": [
    "# Module"
   ]
  },
  {
   "cell_type": "markdown",
   "id": "1068aeb3",
   "metadata": {},
   "source": [
    "# Random\n",
    "\n",
    "choice()\n",
    "Randint()\n",
    "shuffle()"
   ]
  },
  {
   "cell_type": "markdown",
   "id": "a2877937",
   "metadata": {},
   "source": [
    "# import\n",
    "\n",
    "1) import module_name\n",
    "\n",
    "2) from module_name import function_name"
   ]
  },
  {
   "cell_type": "code",
   "execution_count": 32,
   "id": "3b25e988",
   "metadata": {},
   "outputs": [],
   "source": [
    "l1 = [1,5,9,7,52,1,22,33]"
   ]
  },
  {
   "cell_type": "code",
   "execution_count": 34,
   "id": "977a4a60",
   "metadata": {},
   "outputs": [],
   "source": [
    "from random import choice"
   ]
  },
  {
   "cell_type": "code",
   "execution_count": 37,
   "id": "d0b9b7b6",
   "metadata": {},
   "outputs": [
    {
     "name": "stdout",
     "output_type": "stream",
     "text": [
      "5\n"
     ]
    }
   ],
   "source": [
    "print(choice(l1))"
   ]
  },
  {
   "cell_type": "code",
   "execution_count": 40,
   "id": "0ad49d1c",
   "metadata": {},
   "outputs": [
    {
     "name": "stdout",
     "output_type": "stream",
     "text": [
      "Your OTP is :  4522\n"
     ]
    }
   ],
   "source": [
    "from random import randint\n",
    "\n",
    "otp = randint(2000,5000)\n",
    "\n",
    "print('Your OTP is : ', otp)"
   ]
  },
  {
   "cell_type": "code",
   "execution_count": 41,
   "id": "52da51bf",
   "metadata": {},
   "outputs": [],
   "source": [
    "# shuffle \n",
    "\n",
    "l2= ['a','aa','b','bbb']"
   ]
  },
  {
   "cell_type": "code",
   "execution_count": 42,
   "id": "d79b06b0",
   "metadata": {},
   "outputs": [],
   "source": [
    "from random import shuffle\n",
    "\n"
   ]
  },
  {
   "cell_type": "code",
   "execution_count": 48,
   "id": "fce304b1",
   "metadata": {},
   "outputs": [],
   "source": [
    "shuffle(l2)"
   ]
  },
  {
   "cell_type": "code",
   "execution_count": 49,
   "id": "45943d38",
   "metadata": {},
   "outputs": [
    {
     "name": "stdout",
     "output_type": "stream",
     "text": [
      "['bbb', 'b', 'aa', 'a']\n"
     ]
    }
   ],
   "source": [
    "print(l2)"
   ]
  },
  {
   "cell_type": "code",
   "execution_count": 47,
   "id": "bf526487",
   "metadata": {},
   "outputs": [
    {
     "name": "stdout",
     "output_type": "stream",
     "text": [
      "['aa', 'a', 'bbb', 'b']\n"
     ]
    }
   ],
   "source": [
    "print(l2)"
   ]
  },
  {
   "cell_type": "code",
   "execution_count": null,
   "id": "7101bfbb",
   "metadata": {},
   "outputs": [],
   "source": []
  }
 ],
 "metadata": {
  "kernelspec": {
   "display_name": "Python 3 (ipykernel)",
   "language": "python",
   "name": "python3"
  },
  "language_info": {
   "codemirror_mode": {
    "name": "ipython",
    "version": 3
   },
   "file_extension": ".py",
   "mimetype": "text/x-python",
   "name": "python",
   "nbconvert_exporter": "python",
   "pygments_lexer": "ipython3",
   "version": "3.9.12"
  }
 },
 "nbformat": 4,
 "nbformat_minor": 5
}
