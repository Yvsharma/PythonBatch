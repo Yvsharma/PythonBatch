{
 "cells": [
  {
   "cell_type": "markdown",
   "id": "b16712f6",
   "metadata": {},
   "source": [
    "Q1) WAP to acept a list from the user and print the alternate element of list."
   ]
  },
  {
   "cell_type": "markdown",
   "id": "e6ef9dca",
   "metadata": {},
   "source": [
    "Q2) WAP to remove the element '3' from the given list [1,2,3,4,5,6]."
   ]
  },
  {
   "cell_type": "markdown",
   "id": "01479238",
   "metadata": {},
   "source": [
    "Q3) WAP to insert the element 'Python' on index 2 in the given list ['Java','Php','.Net','Angular']."
   ]
  },
  {
   "cell_type": "markdown",
   "id": "d0caff48",
   "metadata": {},
   "source": [
    "Q4) WAP to add element in the list using for loop."
   ]
  },
  {
   "cell_type": "markdown",
   "id": "609c84b5",
   "metadata": {},
   "source": [
    "Q5) WAP to perform slicing with given tuple\n",
    "('Python',1,2,3,'Java','A','B') with following slicing point:\n",
    "    a) print alternate value of tuple.\n",
    "    b) Print the last value of tuple.\n",
    "    c) print the value between index 1 to 5."
   ]
  },
  {
   "cell_type": "markdown",
   "id": "758382c9",
   "metadata": {},
   "source": [
    "Q6) WAP to count element in given tuple (1,2,3,4,5,6,7,8,9)."
   ]
  },
  {
   "cell_type": "markdown",
   "id": "166044ef",
   "metadata": {},
   "source": [
    "Q7) WAP to convert tuple into list."
   ]
  },
  {
   "cell_type": "markdown",
   "id": "e69597a0",
   "metadata": {},
   "source": [
    "Q8) WAP to convert 2 given list into dictionary.\n",
    "list1[1,2,3,4,5]\n",
    "list2['A','B','C','D','E']."
   ]
  },
  {
   "cell_type": "markdown",
   "id": "57714d0c",
   "metadata": {},
   "source": [
    "Q9) WAP to print the keys from the given Dictionary\n",
    "{1:'Apple',2:'Banana',3:'Mango'} and print keys into list."
   ]
  },
  {
   "cell_type": "markdown",
   "id": "33c4d6b8",
   "metadata": {},
   "source": [
    "Q10)WAP to print the Values from the given Dictionary\n",
    "{1:'Apple',2:'Banana',3:'Mango'} and print Values into list."
   ]
  },
  {
   "cell_type": "markdown",
   "id": "a17d1e3f",
   "metadata": {},
   "source": [
    "# Types of Inheritance"
   ]
  },
  {
   "cell_type": "markdown",
   "id": "d8230f2f",
   "metadata": {},
   "source": [
    "1) Single\n",
    "2) Multiple\n",
    "3) Multilevel\n",
    "4) Hybrid"
   ]
  },
  {
   "cell_type": "code",
   "execution_count": 1,
   "id": "b64378b9",
   "metadata": {},
   "outputs": [],
   "source": [
    "# Multiple (Parent 1 and parent 2 ki property can accesed by child class)\n",
    "\n",
    "# First parent class\n",
    "class parent1():\n",
    "    def assign_string1(self,str1):\n",
    "        self.str1=str1\n",
    "    def show_str1(self):\n",
    "        return self.str1\n",
    "    "
   ]
  },
  {
   "cell_type": "code",
   "execution_count": 2,
   "id": "fbbf8b51",
   "metadata": {},
   "outputs": [],
   "source": [
    "# Second parent class\n",
    "class parent2():\n",
    "    def assign_string2(self,str2):\n",
    "        self.str2=str2\n",
    "    def show_str2(self):\n",
    "        return self.str2"
   ]
  },
  {
   "cell_type": "code",
   "execution_count": 3,
   "id": "654c802b",
   "metadata": {},
   "outputs": [],
   "source": [
    "# Child class\n",
    "class derived(parent1,parent2):\n",
    "    def assign_string3(self,str3):\n",
    "        self.str3 = str3\n",
    "    def show_string3(self):\n",
    "        return self.str3"
   ]
  },
  {
   "cell_type": "code",
   "execution_count": 4,
   "id": "aff53bbd",
   "metadata": {},
   "outputs": [],
   "source": [
    "d1=derived()"
   ]
  },
  {
   "cell_type": "code",
   "execution_count": 5,
   "id": "b7c255b4",
   "metadata": {},
   "outputs": [],
   "source": [
    "d1.assign_string1('one')\n",
    "d1.assign_string2('two')\n",
    "d1.assign_string3('three')"
   ]
  },
  {
   "cell_type": "code",
   "execution_count": 8,
   "id": "0d012d48",
   "metadata": {},
   "outputs": [
    {
     "data": {
      "text/plain": [
       "'one'"
      ]
     },
     "execution_count": 8,
     "metadata": {},
     "output_type": "execute_result"
    }
   ],
   "source": [
    "# invoking \n",
    "\n",
    "d1.show_str1()\n"
   ]
  },
  {
   "cell_type": "code",
   "execution_count": 9,
   "id": "5a9eba98",
   "metadata": {},
   "outputs": [
    {
     "data": {
      "text/plain": [
       "'two'"
      ]
     },
     "execution_count": 9,
     "metadata": {},
     "output_type": "execute_result"
    }
   ],
   "source": [
    "d1.show_str2()\n"
   ]
  },
  {
   "cell_type": "code",
   "execution_count": 10,
   "id": "b0d1d49b",
   "metadata": {},
   "outputs": [
    {
     "data": {
      "text/plain": [
       "'three'"
      ]
     },
     "execution_count": 10,
     "metadata": {},
     "output_type": "execute_result"
    }
   ],
   "source": [
    "d1.show_string3()"
   ]
  },
  {
   "cell_type": "markdown",
   "id": "54e8dedb",
   "metadata": {},
   "source": [
    "# Multilevel"
   ]
  },
  {
   "cell_type": "markdown",
   "id": "932631ef",
   "metadata": {},
   "source": [
    "# parent ---> child ----> Grandchild"
   ]
  },
  {
   "cell_type": "code",
   "execution_count": 21,
   "id": "ea47d133",
   "metadata": {},
   "outputs": [],
   "source": [
    "# Parent class\n",
    "class parent():\n",
    "    def assign_name(self,name):\n",
    "        self.name = name\n",
    "    def show_name(self):\n",
    "        return self.name"
   ]
  },
  {
   "cell_type": "code",
   "execution_count": 22,
   "id": "c73aaf27",
   "metadata": {},
   "outputs": [],
   "source": [
    "# Child class\n",
    "class child(parent):\n",
    "    def assign_age(self,age):\n",
    "        self.age = age\n",
    "    def show_age(self):\n",
    "        return self.age"
   ]
  },
  {
   "cell_type": "code",
   "execution_count": 23,
   "id": "8e83be79",
   "metadata": {},
   "outputs": [],
   "source": [
    "# Grand child class\n",
    "\n",
    "class grandchild(child):\n",
    "    def assign_gender(self,gender):\n",
    "        self.gender = gender\n",
    "    def show_gender(self):\n",
    "        return self.gender"
   ]
  },
  {
   "cell_type": "code",
   "execution_count": 24,
   "id": "26ec272b",
   "metadata": {},
   "outputs": [],
   "source": [
    "g1 = grandchild()"
   ]
  },
  {
   "cell_type": "code",
   "execution_count": 25,
   "id": "38dfde01",
   "metadata": {},
   "outputs": [],
   "source": [
    "g1.assign_name('Python')\n",
    "g1.assign_age(37)\n",
    "g1.assign_gender('Male')"
   ]
  },
  {
   "cell_type": "code",
   "execution_count": 26,
   "id": "024e5724",
   "metadata": {},
   "outputs": [
    {
     "data": {
      "text/plain": [
       "'Python'"
      ]
     },
     "execution_count": 26,
     "metadata": {},
     "output_type": "execute_result"
    }
   ],
   "source": [
    "# invoke\n",
    "\n",
    "g1.show_name()"
   ]
  },
  {
   "cell_type": "code",
   "execution_count": 17,
   "id": "48b86689",
   "metadata": {},
   "outputs": [
    {
     "data": {
      "text/plain": [
       "37"
      ]
     },
     "execution_count": 17,
     "metadata": {},
     "output_type": "execute_result"
    }
   ],
   "source": [
    "g1.show_age()"
   ]
  },
  {
   "cell_type": "code",
   "execution_count": 18,
   "id": "04ef4eaf",
   "metadata": {},
   "outputs": [
    {
     "data": {
      "text/plain": [
       "'Male'"
      ]
     },
     "execution_count": 18,
     "metadata": {},
     "output_type": "execute_result"
    }
   ],
   "source": [
    "g1.show_gender()"
   ]
  },
  {
   "cell_type": "code",
   "execution_count": null,
   "id": "3fae28cb",
   "metadata": {},
   "outputs": [],
   "source": []
  }
 ],
 "metadata": {
  "kernelspec": {
   "display_name": "Python 3 (ipykernel)",
   "language": "python",
   "name": "python3"
  },
  "language_info": {
   "codemirror_mode": {
    "name": "ipython",
    "version": 3
   },
   "file_extension": ".py",
   "mimetype": "text/x-python",
   "name": "python",
   "nbconvert_exporter": "python",
   "pygments_lexer": "ipython3",
   "version": "3.9.12"
  }
 },
 "nbformat": 4,
 "nbformat_minor": 5
}
