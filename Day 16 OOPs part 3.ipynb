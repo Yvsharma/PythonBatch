{
 "cells": [
  {
   "cell_type": "markdown",
   "id": "83a7fd62",
   "metadata": {},
   "source": [
    "# Hierarchical inheritane"
   ]
  },
  {
   "cell_type": "code",
   "execution_count": 6,
   "id": "342cd5a4",
   "metadata": {},
   "outputs": [],
   "source": [
    "class A1: #parent class\n",
    "    def myfunction1(self):\n",
    "        print('class A1 function called')\n",
    "        \n",
    "class A2(A1): # child 1\n",
    "    def myfunction2(self):\n",
    "        print('class A2 function called')\n",
    "\n",
    "class A3(A1): #child 2\n",
    "    def myfunction3(self):\n",
    "        print('class A3 function called')"
   ]
  },
  {
   "cell_type": "code",
   "execution_count": 7,
   "id": "55d1cf63",
   "metadata": {},
   "outputs": [],
   "source": [
    "# creating objects\n",
    "\n",
    "a2 = A2()\n",
    "a3 = A3()"
   ]
  },
  {
   "cell_type": "code",
   "execution_count": 8,
   "id": "ea8c92ba",
   "metadata": {},
   "outputs": [
    {
     "name": "stdout",
     "output_type": "stream",
     "text": [
      "class A1 function called\n"
     ]
    }
   ],
   "source": [
    "# invoking\n",
    "a2.myfunction1()\n"
   ]
  },
  {
   "cell_type": "code",
   "execution_count": 5,
   "id": "97c277c4",
   "metadata": {},
   "outputs": [
    {
     "name": "stdout",
     "output_type": "stream",
     "text": [
      "class A2 function called\n"
     ]
    }
   ],
   "source": [
    "a2.myfunction2()"
   ]
  },
  {
   "cell_type": "code",
   "execution_count": 10,
   "id": "b58064fd",
   "metadata": {},
   "outputs": [
    {
     "name": "stdout",
     "output_type": "stream",
     "text": [
      "class A1 function called\n"
     ]
    }
   ],
   "source": [
    "a3.myfunction1()"
   ]
  },
  {
   "cell_type": "code",
   "execution_count": 11,
   "id": "518ba669",
   "metadata": {},
   "outputs": [
    {
     "name": "stdout",
     "output_type": "stream",
     "text": [
      "class A3 function called\n"
     ]
    }
   ],
   "source": [
    "a3.myfunction3()"
   ]
  },
  {
   "cell_type": "code",
   "execution_count": 12,
   "id": "812bb943",
   "metadata": {},
   "outputs": [
    {
     "name": "stdout",
     "output_type": "stream",
     "text": [
      "class A1 function called\n",
      "class A3 function called\n"
     ]
    }
   ],
   "source": [
    "a3.myfunction1()\n",
    "a3.myfunction3()"
   ]
  },
  {
   "cell_type": "code",
   "execution_count": 13,
   "id": "8260fadc",
   "metadata": {},
   "outputs": [
    {
     "ename": "AttributeError",
     "evalue": "'A3' object has no attribute 'myfunction2'",
     "output_type": "error",
     "traceback": [
      "\u001b[1;31m---------------------------------------------------------------------------\u001b[0m",
      "\u001b[1;31mAttributeError\u001b[0m                            Traceback (most recent call last)",
      "Input \u001b[1;32mIn [13]\u001b[0m, in \u001b[0;36m<cell line: 1>\u001b[1;34m()\u001b[0m\n\u001b[1;32m----> 1\u001b[0m \u001b[43ma3\u001b[49m\u001b[38;5;241;43m.\u001b[39;49m\u001b[43mmyfunction2\u001b[49m()\n",
      "\u001b[1;31mAttributeError\u001b[0m: 'A3' object has no attribute 'myfunction2'"
     ]
    }
   ],
   "source": [
    "a3.myfunction2()"
   ]
  },
  {
   "cell_type": "markdown",
   "id": "e449a874",
   "metadata": {},
   "source": [
    "# Hybrid inheritance"
   ]
  },
  {
   "cell_type": "code",
   "execution_count": 15,
   "id": "3426d2cc",
   "metadata": {},
   "outputs": [],
   "source": [
    "class B1: #parent class\n",
    "    def myfunction1(self):\n",
    "        print('class B1 function called')\n",
    "        \n",
    "class B2(B1): # child 1\n",
    "    def myfunction2(self):\n",
    "        print('class B2 function called')\n",
    "\n",
    "class B3(B1): #child 2\n",
    "    def myfunction3(self):\n",
    "        print('class B3 function called')\n",
    "\n",
    "class B4(B2,B3): #grand child 1\n",
    "    def myfunction4(self):\n",
    "        print('class B4 function called')"
   ]
  },
  {
   "cell_type": "code",
   "execution_count": 16,
   "id": "9163b6fd",
   "metadata": {},
   "outputs": [],
   "source": [
    "# creating object\n",
    "\n",
    "b4=B4()"
   ]
  },
  {
   "cell_type": "code",
   "execution_count": 18,
   "id": "3b66c506",
   "metadata": {},
   "outputs": [
    {
     "name": "stdout",
     "output_type": "stream",
     "text": [
      "class B1 function called\n",
      "class B2 function called\n",
      "class B3 function called\n",
      "class B4 function called\n"
     ]
    }
   ],
   "source": [
    "# invoke \n",
    "\n",
    "b4.myfunction1()\n",
    "b4.myfunction2()\n",
    "b4.myfunction3()\n",
    "b4.myfunction4()"
   ]
  },
  {
   "cell_type": "markdown",
   "id": "bbf96f2d",
   "metadata": {},
   "source": [
    "# Polymorphism"
   ]
  },
  {
   "cell_type": "markdown",
   "id": "65328150",
   "metadata": {},
   "source": [
    "it means having many form of same name."
   ]
  },
  {
   "cell_type": "markdown",
   "id": "cd2fc987",
   "metadata": {},
   "source": [
    "in programming poly. means function having same name but different signature."
   ]
  },
  {
   "cell_type": "code",
   "execution_count": null,
   "id": "71a80205",
   "metadata": {},
   "outputs": [],
   "source": [
    "types:-\n",
    "    1) compile time poly. :\n",
    "        a) Method overloading\n",
    "    \n",
    "    2) Runtime poly. :\n",
    "        a) Method overriding\n",
    "    \n",
    "    "
   ]
  },
  {
   "cell_type": "markdown",
   "id": "04db4e1e",
   "metadata": {},
   "source": [
    "# method overloading"
   ]
  },
  {
   "cell_type": "code",
   "execution_count": 19,
   "id": "136e59f9",
   "metadata": {},
   "outputs": [],
   "source": [
    "# method overloading\n",
    "\n",
    "class MO: \n",
    "    def myfunction1(self): # no arguments\n",
    "        print('class B1 function called')\n",
    "    \n",
    "    def myfunction1(self,a): # 1 argum.\n",
    "        print('class B2 function called')\n",
    "        \n",
    "    def myfunction1(self,a,b): # 2 argument\n",
    "        print('class B2 function called')\n"
   ]
  },
  {
   "cell_type": "code",
   "execution_count": 20,
   "id": "4afcc3af",
   "metadata": {},
   "outputs": [],
   "source": [
    "# creating object\n",
    "\n",
    "m= MO()"
   ]
  },
  {
   "cell_type": "code",
   "execution_count": 25,
   "id": "26a0d864",
   "metadata": {},
   "outputs": [
    {
     "ename": "TypeError",
     "evalue": "myfunction1() missing 2 required positional arguments: 'a' and 'b'",
     "output_type": "error",
     "traceback": [
      "\u001b[1;31m---------------------------------------------------------------------------\u001b[0m",
      "\u001b[1;31mTypeError\u001b[0m                                 Traceback (most recent call last)",
      "Input \u001b[1;32mIn [25]\u001b[0m, in \u001b[0;36m<cell line: 2>\u001b[1;34m()\u001b[0m\n\u001b[0;32m      1\u001b[0m \u001b[38;5;66;03m# calling 1st function\u001b[39;00m\n\u001b[1;32m----> 2\u001b[0m \u001b[43mm\u001b[49m\u001b[38;5;241;43m.\u001b[39;49m\u001b[43mmyfunction1\u001b[49m\u001b[43m(\u001b[49m\u001b[43m)\u001b[49m\n",
      "\u001b[1;31mTypeError\u001b[0m: myfunction1() missing 2 required positional arguments: 'a' and 'b'"
     ]
    }
   ],
   "source": [
    "# calling 1st function\n",
    "m.myfunction1()"
   ]
  },
  {
   "cell_type": "code",
   "execution_count": 26,
   "id": "c4a1ea1e",
   "metadata": {},
   "outputs": [
    {
     "ename": "TypeError",
     "evalue": "myfunction1() missing 1 required positional argument: 'b'",
     "output_type": "error",
     "traceback": [
      "\u001b[1;31m---------------------------------------------------------------------------\u001b[0m",
      "\u001b[1;31mTypeError\u001b[0m                                 Traceback (most recent call last)",
      "Input \u001b[1;32mIn [26]\u001b[0m, in \u001b[0;36m<cell line: 2>\u001b[1;34m()\u001b[0m\n\u001b[0;32m      1\u001b[0m \u001b[38;5;66;03m# calling 2nd function\u001b[39;00m\n\u001b[1;32m----> 2\u001b[0m \u001b[43mm\u001b[49m\u001b[38;5;241;43m.\u001b[39;49m\u001b[43mmyfunction1\u001b[49m\u001b[43m(\u001b[49m\u001b[38;5;241;43m5\u001b[39;49m\u001b[43m)\u001b[49m\n",
      "\u001b[1;31mTypeError\u001b[0m: myfunction1() missing 1 required positional argument: 'b'"
     ]
    }
   ],
   "source": [
    "# calling 2nd function\n",
    "m.myfunction1(5)"
   ]
  },
  {
   "cell_type": "code",
   "execution_count": 24,
   "id": "3de33138",
   "metadata": {},
   "outputs": [
    {
     "name": "stdout",
     "output_type": "stream",
     "text": [
      "class B2 function called\n"
     ]
    }
   ],
   "source": [
    "## calling 3rd function\n",
    "m.myfunction1(5,6)"
   ]
  },
  {
   "cell_type": "markdown",
   "id": "98919c82",
   "metadata": {},
   "source": [
    "\n",
    "# note :- method overloading is not supported in python because python is a interpreted language."
   ]
  },
  {
   "cell_type": "markdown",
   "id": "5580653e",
   "metadata": {},
   "source": [
    "# \n",
    "# method overriding"
   ]
  },
  {
   "cell_type": "markdown",
   "id": "80140b22",
   "metadata": {},
   "source": [
    "it is the runtime poly.\n"
   ]
  },
  {
   "cell_type": "markdown",
   "id": "ef427173",
   "metadata": {},
   "source": [
    "Method overriding means having same name methods but into different class."
   ]
  },
  {
   "cell_type": "code",
   "execution_count": 27,
   "id": "0bc7ec6b",
   "metadata": {},
   "outputs": [],
   "source": [
    "class MO1: \n",
    "    def myfunction1(self,a): \n",
    "        print('class B1 function called')\n",
    "\n",
    "class MO2(MO1): \n",
    "    def myfunction1(self,a): \n",
    "        print('class B2 function called')\n",
    "        \n",
    "class MO3(MO2): \n",
    "    def myfunction1(self,a): \n",
    "        print('class B3 function called')"
   ]
  },
  {
   "cell_type": "code",
   "execution_count": 28,
   "id": "5cb984e6",
   "metadata": {},
   "outputs": [],
   "source": [
    "# creating object\n",
    "\n",
    "m=MO3()"
   ]
  },
  {
   "cell_type": "code",
   "execution_count": 29,
   "id": "acd4310a",
   "metadata": {},
   "outputs": [
    {
     "name": "stdout",
     "output_type": "stream",
     "text": [
      "class B3 function called\n"
     ]
    }
   ],
   "source": [
    "m.myfunction1(10)"
   ]
  },
  {
   "cell_type": "code",
   "execution_count": 31,
   "id": "eab043ee",
   "metadata": {},
   "outputs": [],
   "source": [
    "# using super method to connect\n",
    "\n",
    "class MO1: \n",
    "    def myfunction1(self,a): \n",
    "        print('class B1 function called')\n",
    "\n",
    "class MO2(MO1): \n",
    "    def myfunction1(self,a): \n",
    "        print('class B2 function called')\n",
    "        super().myfunction1(10)\n",
    "    \n",
    "class MO3(MO2): \n",
    "    def myfunction1(self,a): \n",
    "        print('class B3 function called')\n",
    "        super().myfunction1(10)"
   ]
  },
  {
   "cell_type": "code",
   "execution_count": 32,
   "id": "d8b62551",
   "metadata": {},
   "outputs": [],
   "source": [
    "#creating object \n",
    "\n",
    "m1= MO3()"
   ]
  },
  {
   "cell_type": "code",
   "execution_count": 34,
   "id": "34fce67b",
   "metadata": {},
   "outputs": [
    {
     "name": "stdout",
     "output_type": "stream",
     "text": [
      "class B3 function called\n",
      "class B2 function called\n",
      "class B1 function called\n"
     ]
    }
   ],
   "source": [
    "m1.myfunction1(20)"
   ]
  },
  {
   "cell_type": "code",
   "execution_count": 35,
   "id": "0f21351c",
   "metadata": {},
   "outputs": [],
   "source": [
    "class MO1: \n",
    "    def myfunction1(self,a): \n",
    "        print('class B1 function called')\n",
    "\n",
    "class MO2(MO1): \n",
    "    def myfunction1(self,a): \n",
    "        print('class B2 function called')\n",
    "        super().myfunction1(20)\n",
    "    \n",
    "class MO3(MO2): \n",
    "    def myfunction1(self,a): \n",
    "        print('class B3 function called')\n",
    "        super().myfunction1(10)"
   ]
  },
  {
   "cell_type": "code",
   "execution_count": 36,
   "id": "1eced178",
   "metadata": {},
   "outputs": [
    {
     "name": "stdout",
     "output_type": "stream",
     "text": [
      "class B3 function called\n",
      "class B2 function called\n",
      "class B1 function called\n"
     ]
    }
   ],
   "source": [
    "m1.myfunction1(20)"
   ]
  },
  {
   "cell_type": "code",
   "execution_count": 39,
   "id": "39b3f773",
   "metadata": {},
   "outputs": [],
   "source": [
    "class MO1: \n",
    "    def myfunction1(self,a): \n",
    "        print('class B1 function called')\n",
    "\n",
    "class MO2(MO1): \n",
    "    def myfunction1(self,a): \n",
    "        print('class B2 function called',a)\n",
    "        super().myfunction1('b')\n",
    "    \n",
    "class MO3(MO2): \n",
    "    def myfunction1(self,a): \n",
    "        print('class B3 function called',a)\n",
    "        super().myfunction1('a')"
   ]
  },
  {
   "cell_type": "code",
   "execution_count": 40,
   "id": "2369751a",
   "metadata": {},
   "outputs": [
    {
     "name": "stdout",
     "output_type": "stream",
     "text": [
      "class B3 function called\n",
      "class B2 function called\n",
      "class B1 function called\n"
     ]
    }
   ],
   "source": [
    "m1.myfunction1('car')"
   ]
  },
  {
   "cell_type": "code",
   "execution_count": null,
   "id": "b8fd6fda",
   "metadata": {},
   "outputs": [],
   "source": []
  }
 ],
 "metadata": {
  "kernelspec": {
   "display_name": "Python 3 (ipykernel)",
   "language": "python",
   "name": "python3"
  },
  "language_info": {
   "codemirror_mode": {
    "name": "ipython",
    "version": 3
   },
   "file_extension": ".py",
   "mimetype": "text/x-python",
   "name": "python",
   "nbconvert_exporter": "python",
   "pygments_lexer": "ipython3",
   "version": "3.9.12"
  }
 },
 "nbformat": 4,
 "nbformat_minor": 5
}
